{
 "cells": [
  {
   "cell_type": "code",
   "execution_count": 1,
   "metadata": {},
   "outputs": [],
   "source": [
    "import pandas as pd\n",
    "import csv"
   ]
  },
  {
   "cell_type": "code",
   "execution_count": 2,
   "metadata": {},
   "outputs": [],
   "source": [
    "df= pd.read_csv(\"Unit-Profile-sept2015.csv\",index_col = None)"
   ]
  },
  {
   "cell_type": "code",
   "execution_count": 3,
   "metadata": {},
   "outputs": [
    {
     "data": {
      "text/html": [
       "<div>\n",
       "<style scoped>\n",
       "    .dataframe tbody tr th:only-of-type {\n",
       "        vertical-align: middle;\n",
       "    }\n",
       "\n",
       "    .dataframe tbody tr th {\n",
       "        vertical-align: top;\n",
       "    }\n",
       "\n",
       "    .dataframe thead th {\n",
       "        text-align: right;\n",
       "    }\n",
       "</style>\n",
       "<table border=\"1\" class=\"dataframe\">\n",
       "  <thead>\n",
       "    <tr style=\"text-align: right;\">\n",
       "      <th></th>\n",
       "      <th>unit_id</th>\n",
       "      <th>isp</th>\n",
       "      <th>TECHNOLOGY</th>\n",
       "      <th>STATE</th>\n",
       "      <th>CENSUS</th>\n",
       "      <th>timezone_offset</th>\n",
       "      <th>timezone_offset_dst</th>\n",
       "      <th>Download</th>\n",
       "      <th>Upload</th>\n",
       "    </tr>\n",
       "  </thead>\n",
       "  <tbody>\n",
       "    <tr>\n",
       "      <th>0</th>\n",
       "      <td>382</td>\n",
       "      <td>AT&amp;T</td>\n",
       "      <td>UVERSE</td>\n",
       "      <td>SC</td>\n",
       "      <td>SOUTH</td>\n",
       "      <td>-5</td>\n",
       "      <td>-4</td>\n",
       "      <td>12</td>\n",
       "      <td>1</td>\n",
       "    </tr>\n",
       "    <tr>\n",
       "      <th>1</th>\n",
       "      <td>405</td>\n",
       "      <td>AT&amp;T</td>\n",
       "      <td>UVERSE</td>\n",
       "      <td>IL</td>\n",
       "      <td>MIDWEST</td>\n",
       "      <td>-6</td>\n",
       "      <td>-5</td>\n",
       "      <td>6</td>\n",
       "      <td>1</td>\n",
       "    </tr>\n",
       "    <tr>\n",
       "      <th>2</th>\n",
       "      <td>450</td>\n",
       "      <td>AT&amp;T</td>\n",
       "      <td>UVERSE</td>\n",
       "      <td>OH</td>\n",
       "      <td>MIDWEST</td>\n",
       "      <td>-5</td>\n",
       "      <td>-4</td>\n",
       "      <td>6</td>\n",
       "      <td>1</td>\n",
       "    </tr>\n",
       "    <tr>\n",
       "      <th>3</th>\n",
       "      <td>463</td>\n",
       "      <td>AT&amp;T</td>\n",
       "      <td>UVERSE</td>\n",
       "      <td>IL</td>\n",
       "      <td>MIDWEST</td>\n",
       "      <td>-6</td>\n",
       "      <td>-5</td>\n",
       "      <td>18</td>\n",
       "      <td>1.5</td>\n",
       "    </tr>\n",
       "    <tr>\n",
       "      <th>4</th>\n",
       "      <td>464</td>\n",
       "      <td>AT&amp;T</td>\n",
       "      <td>DSL</td>\n",
       "      <td>OH</td>\n",
       "      <td>MIDWEST</td>\n",
       "      <td>-5</td>\n",
       "      <td>-4</td>\n",
       "      <td>3</td>\n",
       "      <td>0.384</td>\n",
       "    </tr>\n",
       "  </tbody>\n",
       "</table>\n",
       "</div>"
      ],
      "text/plain": [
       "   unit_id   isp TECHNOLOGY STATE   CENSUS  timezone_offset  \\\n",
       "0      382  AT&T     UVERSE    SC    SOUTH               -5   \n",
       "1      405  AT&T     UVERSE    IL  MIDWEST               -6   \n",
       "2      450  AT&T     UVERSE    OH  MIDWEST               -5   \n",
       "3      463  AT&T     UVERSE    IL  MIDWEST               -6   \n",
       "4      464  AT&T        DSL    OH  MIDWEST               -5   \n",
       "\n",
       "   timezone_offset_dst Download Upload  \n",
       "0                   -4       12      1  \n",
       "1                   -5        6      1  \n",
       "2                   -4        6      1  \n",
       "3                   -5       18    1.5  \n",
       "4                   -4        3  0.384  "
      ]
     },
     "execution_count": 3,
     "metadata": {},
     "output_type": "execute_result"
    }
   ],
   "source": [
    "df.head()"
   ]
  },
  {
   "cell_type": "code",
   "execution_count": 4,
   "metadata": {},
   "outputs": [
    {
     "data": {
      "text/plain": [
       "(6241, 9)"
      ]
     },
     "execution_count": 4,
     "metadata": {},
     "output_type": "execute_result"
    }
   ],
   "source": [
    "df[0:].shape"
   ]
  },
  {
   "cell_type": "code",
   "execution_count": 5,
   "metadata": {},
   "outputs": [
    {
     "data": {
      "text/plain": [
       "(6241, 9)"
      ]
     },
     "execution_count": 5,
     "metadata": {},
     "output_type": "execute_result"
    }
   ],
   "source": [
    "df.shape"
   ]
  },
  {
   "cell_type": "code",
   "execution_count": 6,
   "metadata": {},
   "outputs": [],
   "source": [
    "df_curr_dlping= pd.read_csv(\"curr_dlping.csv\",header=None,index_col = None)"
   ]
  },
  {
   "cell_type": "code",
   "execution_count": 7,
   "metadata": {},
   "outputs": [
    {
     "data": {
      "text/html": [
       "<div>\n",
       "<style scoped>\n",
       "    .dataframe tbody tr th:only-of-type {\n",
       "        vertical-align: middle;\n",
       "    }\n",
       "\n",
       "    .dataframe tbody tr th {\n",
       "        vertical-align: top;\n",
       "    }\n",
       "\n",
       "    .dataframe thead th {\n",
       "        text-align: right;\n",
       "    }\n",
       "</style>\n",
       "<table border=\"1\" class=\"dataframe\">\n",
       "  <thead>\n",
       "    <tr style=\"text-align: right;\">\n",
       "      <th></th>\n",
       "      <th>0</th>\n",
       "      <th>1</th>\n",
       "      <th>2</th>\n",
       "      <th>3</th>\n",
       "      <th>4</th>\n",
       "      <th>5</th>\n",
       "      <th>6</th>\n",
       "      <th>7</th>\n",
       "      <th>8</th>\n",
       "      <th>9</th>\n",
       "    </tr>\n",
       "  </thead>\n",
       "  <tbody>\n",
       "    <tr>\n",
       "      <th>0</th>\n",
       "      <td>373</td>\n",
       "      <td>2015-09-04 05:20:15</td>\n",
       "      <td>samknows1.dal1.level3.net</td>\n",
       "      <td>151475</td>\n",
       "      <td>19203</td>\n",
       "      <td>171127</td>\n",
       "      <td>29006</td>\n",
       "      <td>243</td>\n",
       "      <td>0</td>\n",
       "      <td>965740</td>\n",
       "    </tr>\n",
       "    <tr>\n",
       "      <th>1</th>\n",
       "      <td>373</td>\n",
       "      <td>2015-09-04 05:22:30</td>\n",
       "      <td>samknows1.dal1.level3.net</td>\n",
       "      <td>154984</td>\n",
       "      <td>20320</td>\n",
       "      <td>179114</td>\n",
       "      <td>34947</td>\n",
       "      <td>234</td>\n",
       "      <td>0</td>\n",
       "      <td>965740</td>\n",
       "    </tr>\n",
       "    <tr>\n",
       "      <th>2</th>\n",
       "      <td>373</td>\n",
       "      <td>2015-09-04 07:21:25</td>\n",
       "      <td>samknows1.dal1.level3.net</td>\n",
       "      <td>81891</td>\n",
       "      <td>16464</td>\n",
       "      <td>170042</td>\n",
       "      <td>38316</td>\n",
       "      <td>247</td>\n",
       "      <td>0</td>\n",
       "      <td>965740</td>\n",
       "    </tr>\n",
       "    <tr>\n",
       "      <th>3</th>\n",
       "      <td>373</td>\n",
       "      <td>2015-09-04 09:20:06</td>\n",
       "      <td>samknows1.dal1.level3.net</td>\n",
       "      <td>151906</td>\n",
       "      <td>17094</td>\n",
       "      <td>167955</td>\n",
       "      <td>28322</td>\n",
       "      <td>217</td>\n",
       "      <td>1</td>\n",
       "      <td>965740</td>\n",
       "    </tr>\n",
       "    <tr>\n",
       "      <th>4</th>\n",
       "      <td>373</td>\n",
       "      <td>2015-09-04 09:22:22</td>\n",
       "      <td>samknows1.dal1.level3.net</td>\n",
       "      <td>154100</td>\n",
       "      <td>17771</td>\n",
       "      <td>170054</td>\n",
       "      <td>32022</td>\n",
       "      <td>217</td>\n",
       "      <td>0</td>\n",
       "      <td>965740</td>\n",
       "    </tr>\n",
       "  </tbody>\n",
       "</table>\n",
       "</div>"
      ],
      "text/plain": [
       "     0                    1                          2       3      4       5  \\\n",
       "0  373  2015-09-04 05:20:15  samknows1.dal1.level3.net  151475  19203  171127   \n",
       "1  373  2015-09-04 05:22:30  samknows1.dal1.level3.net  154984  20320  179114   \n",
       "2  373  2015-09-04 07:21:25  samknows1.dal1.level3.net   81891  16464  170042   \n",
       "3  373  2015-09-04 09:20:06  samknows1.dal1.level3.net  151906  17094  167955   \n",
       "4  373  2015-09-04 09:22:22  samknows1.dal1.level3.net  154100  17771  170054   \n",
       "\n",
       "       6    7  8       9  \n",
       "0  29006  243  0  965740  \n",
       "1  34947  234  0  965740  \n",
       "2  38316  247  0  965740  \n",
       "3  28322  217  1  965740  \n",
       "4  32022  217  0  965740  "
      ]
     },
     "execution_count": 7,
     "metadata": {},
     "output_type": "execute_result"
    }
   ],
   "source": [
    "df_curr_dlping.head()"
   ]
  },
  {
   "cell_type": "code",
   "execution_count": 8,
   "metadata": {},
   "outputs": [],
   "source": [
    "df_curr_dlping = df_curr_dlping.set_axis(['unit_id', 'dtime', 'target', 'rtt_avg','rtt_min','rtt_max','rtt_std','successes','failiures','location_id'], axis=1, inplace=False)"
   ]
  },
  {
   "cell_type": "code",
   "execution_count": 9,
   "metadata": {},
   "outputs": [
    {
     "data": {
      "text/html": [
       "<div>\n",
       "<style scoped>\n",
       "    .dataframe tbody tr th:only-of-type {\n",
       "        vertical-align: middle;\n",
       "    }\n",
       "\n",
       "    .dataframe tbody tr th {\n",
       "        vertical-align: top;\n",
       "    }\n",
       "\n",
       "    .dataframe thead th {\n",
       "        text-align: right;\n",
       "    }\n",
       "</style>\n",
       "<table border=\"1\" class=\"dataframe\">\n",
       "  <thead>\n",
       "    <tr style=\"text-align: right;\">\n",
       "      <th></th>\n",
       "      <th>unit_id</th>\n",
       "      <th>dtime</th>\n",
       "      <th>target</th>\n",
       "      <th>rtt_avg</th>\n",
       "      <th>rtt_min</th>\n",
       "      <th>rtt_max</th>\n",
       "      <th>rtt_std</th>\n",
       "      <th>successes</th>\n",
       "      <th>failiures</th>\n",
       "      <th>location_id</th>\n",
       "    </tr>\n",
       "  </thead>\n",
       "  <tbody>\n",
       "    <tr>\n",
       "      <th>0</th>\n",
       "      <td>373</td>\n",
       "      <td>2015-09-04 05:20:15</td>\n",
       "      <td>samknows1.dal1.level3.net</td>\n",
       "      <td>151475</td>\n",
       "      <td>19203</td>\n",
       "      <td>171127</td>\n",
       "      <td>29006</td>\n",
       "      <td>243</td>\n",
       "      <td>0</td>\n",
       "      <td>965740</td>\n",
       "    </tr>\n",
       "    <tr>\n",
       "      <th>1</th>\n",
       "      <td>373</td>\n",
       "      <td>2015-09-04 05:22:30</td>\n",
       "      <td>samknows1.dal1.level3.net</td>\n",
       "      <td>154984</td>\n",
       "      <td>20320</td>\n",
       "      <td>179114</td>\n",
       "      <td>34947</td>\n",
       "      <td>234</td>\n",
       "      <td>0</td>\n",
       "      <td>965740</td>\n",
       "    </tr>\n",
       "    <tr>\n",
       "      <th>2</th>\n",
       "      <td>373</td>\n",
       "      <td>2015-09-04 07:21:25</td>\n",
       "      <td>samknows1.dal1.level3.net</td>\n",
       "      <td>81891</td>\n",
       "      <td>16464</td>\n",
       "      <td>170042</td>\n",
       "      <td>38316</td>\n",
       "      <td>247</td>\n",
       "      <td>0</td>\n",
       "      <td>965740</td>\n",
       "    </tr>\n",
       "    <tr>\n",
       "      <th>3</th>\n",
       "      <td>373</td>\n",
       "      <td>2015-09-04 09:20:06</td>\n",
       "      <td>samknows1.dal1.level3.net</td>\n",
       "      <td>151906</td>\n",
       "      <td>17094</td>\n",
       "      <td>167955</td>\n",
       "      <td>28322</td>\n",
       "      <td>217</td>\n",
       "      <td>1</td>\n",
       "      <td>965740</td>\n",
       "    </tr>\n",
       "    <tr>\n",
       "      <th>4</th>\n",
       "      <td>373</td>\n",
       "      <td>2015-09-04 09:22:22</td>\n",
       "      <td>samknows1.dal1.level3.net</td>\n",
       "      <td>154100</td>\n",
       "      <td>17771</td>\n",
       "      <td>170054</td>\n",
       "      <td>32022</td>\n",
       "      <td>217</td>\n",
       "      <td>0</td>\n",
       "      <td>965740</td>\n",
       "    </tr>\n",
       "  </tbody>\n",
       "</table>\n",
       "</div>"
      ],
      "text/plain": [
       "   unit_id                dtime                     target  rtt_avg  rtt_min  \\\n",
       "0      373  2015-09-04 05:20:15  samknows1.dal1.level3.net   151475    19203   \n",
       "1      373  2015-09-04 05:22:30  samknows1.dal1.level3.net   154984    20320   \n",
       "2      373  2015-09-04 07:21:25  samknows1.dal1.level3.net    81891    16464   \n",
       "3      373  2015-09-04 09:20:06  samknows1.dal1.level3.net   151906    17094   \n",
       "4      373  2015-09-04 09:22:22  samknows1.dal1.level3.net   154100    17771   \n",
       "\n",
       "   rtt_max  rtt_std  successes  failiures  location_id  \n",
       "0   171127    29006        243          0       965740  \n",
       "1   179114    34947        234          0       965740  \n",
       "2   170042    38316        247          0       965740  \n",
       "3   167955    28322        217          1       965740  \n",
       "4   170054    32022        217          0       965740  "
      ]
     },
     "execution_count": 9,
     "metadata": {},
     "output_type": "execute_result"
    }
   ],
   "source": [
    "df_curr_dlping.head()"
   ]
  },
  {
   "cell_type": "code",
   "execution_count": 10,
   "metadata": {},
   "outputs": [
    {
     "data": {
      "text/plain": [
       "(5033178,)"
      ]
     },
     "execution_count": 10,
     "metadata": {},
     "output_type": "execute_result"
    }
   ],
   "source": [
    "df_curr_dlping.unit_id.shape"
   ]
  },
  {
   "cell_type": "code",
   "execution_count": 12,
   "metadata": {},
   "outputs": [],
   "source": [
    "unit_id_list = []\n",
    "for i in range(6241):\n",
    "    unit_id_list.append(df.unit_id[i])"
   ]
  },
  {
   "cell_type": "code",
   "execution_count": 15,
   "metadata": {},
   "outputs": [],
   "source": [
    "unit_id_extractor_list = []\n",
    "for i in range(5033178):\n",
    "    unit_id_extractor_list.append(df_curr_dlping.unit_id[i])"
   ]
  },
  {
   "cell_type": "code",
   "execution_count": 18,
   "metadata": {},
   "outputs": [],
   "source": [
    "to_remove = []\n",
    "to_remove = [item for item in unit_id_extractor_list if item not in unit_id_list]"
   ]
  },
  {
   "cell_type": "code",
   "execution_count": 19,
   "metadata": {},
   "outputs": [],
   "source": [
    "to_remove=list(set(to_remove))"
   ]
  },
  {
   "cell_type": "code",
   "execution_count": 20,
   "metadata": {},
   "outputs": [
    {
     "data": {
      "text/plain": [
       "[614148,\n",
       " 800132,\n",
       " 797448,\n",
       " 599952,\n",
       " 13105,\n",
       " 6673,\n",
       " 614224,\n",
       " 589686,\n",
       " 9048,\n",
       " 9658,\n",
       " 7931,\n",
       " 9470]"
      ]
     },
     "execution_count": 20,
     "metadata": {},
     "output_type": "execute_result"
    }
   ],
   "source": [
    "to_remove"
   ]
  },
  {
   "cell_type": "code",
   "execution_count": 21,
   "metadata": {},
   "outputs": [],
   "source": [
    "for element in to_remove:\n",
    "    df_curr_dlping = df_curr_dlping[df_curr_dlping.unit_id != element]"
   ]
  },
  {
   "cell_type": "code",
   "execution_count": 22,
   "metadata": {},
   "outputs": [
    {
     "data": {
      "text/plain": [
       "(5030834, 10)"
      ]
     },
     "execution_count": 22,
     "metadata": {},
     "output_type": "execute_result"
    }
   ],
   "source": [
    "df_curr_dlping.shape"
   ]
  },
  {
   "cell_type": "code",
   "execution_count": 23,
   "metadata": {},
   "outputs": [
    {
     "data": {
      "text/html": [
       "<div>\n",
       "<style scoped>\n",
       "    .dataframe tbody tr th:only-of-type {\n",
       "        vertical-align: middle;\n",
       "    }\n",
       "\n",
       "    .dataframe tbody tr th {\n",
       "        vertical-align: top;\n",
       "    }\n",
       "\n",
       "    .dataframe thead th {\n",
       "        text-align: right;\n",
       "    }\n",
       "</style>\n",
       "<table border=\"1\" class=\"dataframe\">\n",
       "  <thead>\n",
       "    <tr style=\"text-align: right;\">\n",
       "      <th></th>\n",
       "      <th>unit_id</th>\n",
       "      <th>dtime</th>\n",
       "      <th>target</th>\n",
       "      <th>rtt_avg</th>\n",
       "      <th>rtt_min</th>\n",
       "      <th>rtt_max</th>\n",
       "      <th>rtt_std</th>\n",
       "      <th>successes</th>\n",
       "      <th>failiures</th>\n",
       "      <th>location_id</th>\n",
       "    </tr>\n",
       "  </thead>\n",
       "  <tbody>\n",
       "    <tr>\n",
       "      <th>0</th>\n",
       "      <td>373</td>\n",
       "      <td>2015-09-04 05:20:15</td>\n",
       "      <td>samknows1.dal1.level3.net</td>\n",
       "      <td>151475</td>\n",
       "      <td>19203</td>\n",
       "      <td>171127</td>\n",
       "      <td>29006</td>\n",
       "      <td>243</td>\n",
       "      <td>0</td>\n",
       "      <td>965740</td>\n",
       "    </tr>\n",
       "    <tr>\n",
       "      <th>1</th>\n",
       "      <td>373</td>\n",
       "      <td>2015-09-04 05:22:30</td>\n",
       "      <td>samknows1.dal1.level3.net</td>\n",
       "      <td>154984</td>\n",
       "      <td>20320</td>\n",
       "      <td>179114</td>\n",
       "      <td>34947</td>\n",
       "      <td>234</td>\n",
       "      <td>0</td>\n",
       "      <td>965740</td>\n",
       "    </tr>\n",
       "    <tr>\n",
       "      <th>2</th>\n",
       "      <td>373</td>\n",
       "      <td>2015-09-04 07:21:25</td>\n",
       "      <td>samknows1.dal1.level3.net</td>\n",
       "      <td>81891</td>\n",
       "      <td>16464</td>\n",
       "      <td>170042</td>\n",
       "      <td>38316</td>\n",
       "      <td>247</td>\n",
       "      <td>0</td>\n",
       "      <td>965740</td>\n",
       "    </tr>\n",
       "    <tr>\n",
       "      <th>3</th>\n",
       "      <td>373</td>\n",
       "      <td>2015-09-04 09:20:06</td>\n",
       "      <td>samknows1.dal1.level3.net</td>\n",
       "      <td>151906</td>\n",
       "      <td>17094</td>\n",
       "      <td>167955</td>\n",
       "      <td>28322</td>\n",
       "      <td>217</td>\n",
       "      <td>1</td>\n",
       "      <td>965740</td>\n",
       "    </tr>\n",
       "    <tr>\n",
       "      <th>4</th>\n",
       "      <td>373</td>\n",
       "      <td>2015-09-04 09:22:22</td>\n",
       "      <td>samknows1.dal1.level3.net</td>\n",
       "      <td>154100</td>\n",
       "      <td>17771</td>\n",
       "      <td>170054</td>\n",
       "      <td>32022</td>\n",
       "      <td>217</td>\n",
       "      <td>0</td>\n",
       "      <td>965740</td>\n",
       "    </tr>\n",
       "  </tbody>\n",
       "</table>\n",
       "</div>"
      ],
      "text/plain": [
       "   unit_id                dtime                     target  rtt_avg  rtt_min  \\\n",
       "0      373  2015-09-04 05:20:15  samknows1.dal1.level3.net   151475    19203   \n",
       "1      373  2015-09-04 05:22:30  samknows1.dal1.level3.net   154984    20320   \n",
       "2      373  2015-09-04 07:21:25  samknows1.dal1.level3.net    81891    16464   \n",
       "3      373  2015-09-04 09:20:06  samknows1.dal1.level3.net   151906    17094   \n",
       "4      373  2015-09-04 09:22:22  samknows1.dal1.level3.net   154100    17771   \n",
       "\n",
       "   rtt_max  rtt_std  successes  failiures  location_id  \n",
       "0   171127    29006        243          0       965740  \n",
       "1   179114    34947        234          0       965740  \n",
       "2   170042    38316        247          0       965740  \n",
       "3   167955    28322        217          1       965740  \n",
       "4   170054    32022        217          0       965740  "
      ]
     },
     "execution_count": 23,
     "metadata": {},
     "output_type": "execute_result"
    }
   ],
   "source": [
    "df_curr_dlping.head()"
   ]
  },
  {
   "cell_type": "code",
   "execution_count": 24,
   "metadata": {},
   "outputs": [],
   "source": [
    "df_curr_dlping['dtime'] = pd.to_datetime(df_curr_dlping['dtime'], format='%Y-%m-%d %H:%M:%S')\n",
    "\n",
    "df_curr_dlping['Am / Pm'] = df_curr_dlping['dtime'].dt.strftime('%p')\n",
    "df_curr_dlping['Day'] = df_curr_dlping['dtime'].dt.strftime('%A')"
   ]
  },
  {
   "cell_type": "code",
   "execution_count": 25,
   "metadata": {},
   "outputs": [
    {
     "data": {
      "text/html": [
       "<div>\n",
       "<style scoped>\n",
       "    .dataframe tbody tr th:only-of-type {\n",
       "        vertical-align: middle;\n",
       "    }\n",
       "\n",
       "    .dataframe tbody tr th {\n",
       "        vertical-align: top;\n",
       "    }\n",
       "\n",
       "    .dataframe thead th {\n",
       "        text-align: right;\n",
       "    }\n",
       "</style>\n",
       "<table border=\"1\" class=\"dataframe\">\n",
       "  <thead>\n",
       "    <tr style=\"text-align: right;\">\n",
       "      <th></th>\n",
       "      <th>unit_id</th>\n",
       "      <th>dtime</th>\n",
       "      <th>target</th>\n",
       "      <th>rtt_avg</th>\n",
       "      <th>rtt_min</th>\n",
       "      <th>rtt_max</th>\n",
       "      <th>rtt_std</th>\n",
       "      <th>successes</th>\n",
       "      <th>failiures</th>\n",
       "      <th>location_id</th>\n",
       "      <th>Am / Pm</th>\n",
       "      <th>Day</th>\n",
       "    </tr>\n",
       "  </thead>\n",
       "  <tbody>\n",
       "    <tr>\n",
       "      <th>5033173</th>\n",
       "      <td>812010</td>\n",
       "      <td>2015-10-31 14:39:14</td>\n",
       "      <td>samknows1.dal1.level3.net</td>\n",
       "      <td>37310</td>\n",
       "      <td>27000</td>\n",
       "      <td>45428</td>\n",
       "      <td>4146</td>\n",
       "      <td>315</td>\n",
       "      <td>1</td>\n",
       "      <td>1395472</td>\n",
       "      <td>PM</td>\n",
       "      <td>Saturday</td>\n",
       "    </tr>\n",
       "    <tr>\n",
       "      <th>5033174</th>\n",
       "      <td>812010</td>\n",
       "      <td>2015-10-31 16:38:05</td>\n",
       "      <td>ispmon.samknows.mlab1v4.dfw01.measurement-lab.org</td>\n",
       "      <td>36215</td>\n",
       "      <td>25701</td>\n",
       "      <td>43859</td>\n",
       "      <td>3892</td>\n",
       "      <td>352</td>\n",
       "      <td>0</td>\n",
       "      <td>1395472</td>\n",
       "      <td>PM</td>\n",
       "      <td>Saturday</td>\n",
       "    </tr>\n",
       "    <tr>\n",
       "      <th>5033175</th>\n",
       "      <td>812010</td>\n",
       "      <td>2015-10-31 16:38:05</td>\n",
       "      <td>samknows1.dal1.level3.net</td>\n",
       "      <td>36463</td>\n",
       "      <td>25995</td>\n",
       "      <td>43933</td>\n",
       "      <td>3904</td>\n",
       "      <td>352</td>\n",
       "      <td>0</td>\n",
       "      <td>1395472</td>\n",
       "      <td>PM</td>\n",
       "      <td>Saturday</td>\n",
       "    </tr>\n",
       "    <tr>\n",
       "      <th>5033176</th>\n",
       "      <td>812010</td>\n",
       "      <td>2015-10-31 20:40:53</td>\n",
       "      <td>ispmon.samknows.mlab1v4.dfw01.measurement-lab.org</td>\n",
       "      <td>35191</td>\n",
       "      <td>26783</td>\n",
       "      <td>41759</td>\n",
       "      <td>3445</td>\n",
       "      <td>352</td>\n",
       "      <td>0</td>\n",
       "      <td>1395472</td>\n",
       "      <td>PM</td>\n",
       "      <td>Saturday</td>\n",
       "    </tr>\n",
       "    <tr>\n",
       "      <th>5033177</th>\n",
       "      <td>812010</td>\n",
       "      <td>2015-10-31 20:40:53</td>\n",
       "      <td>samknows1.dal1.level3.net</td>\n",
       "      <td>35399</td>\n",
       "      <td>26511</td>\n",
       "      <td>42269</td>\n",
       "      <td>3480</td>\n",
       "      <td>352</td>\n",
       "      <td>0</td>\n",
       "      <td>1395472</td>\n",
       "      <td>PM</td>\n",
       "      <td>Saturday</td>\n",
       "    </tr>\n",
       "  </tbody>\n",
       "</table>\n",
       "</div>"
      ],
      "text/plain": [
       "         unit_id               dtime  \\\n",
       "5033173   812010 2015-10-31 14:39:14   \n",
       "5033174   812010 2015-10-31 16:38:05   \n",
       "5033175   812010 2015-10-31 16:38:05   \n",
       "5033176   812010 2015-10-31 20:40:53   \n",
       "5033177   812010 2015-10-31 20:40:53   \n",
       "\n",
       "                                                    target  rtt_avg  rtt_min  \\\n",
       "5033173                          samknows1.dal1.level3.net    37310    27000   \n",
       "5033174  ispmon.samknows.mlab1v4.dfw01.measurement-lab.org    36215    25701   \n",
       "5033175                          samknows1.dal1.level3.net    36463    25995   \n",
       "5033176  ispmon.samknows.mlab1v4.dfw01.measurement-lab.org    35191    26783   \n",
       "5033177                          samknows1.dal1.level3.net    35399    26511   \n",
       "\n",
       "         rtt_max  rtt_std  successes  failiures  location_id Am / Pm       Day  \n",
       "5033173    45428     4146        315          1      1395472      PM  Saturday  \n",
       "5033174    43859     3892        352          0      1395472      PM  Saturday  \n",
       "5033175    43933     3904        352          0      1395472      PM  Saturday  \n",
       "5033176    41759     3445        352          0      1395472      PM  Saturday  \n",
       "5033177    42269     3480        352          0      1395472      PM  Saturday  "
      ]
     },
     "execution_count": 25,
     "metadata": {},
     "output_type": "execute_result"
    }
   ],
   "source": [
    "df_curr_dlping.tail()"
   ]
  },
  {
   "cell_type": "code",
   "execution_count": 26,
   "metadata": {},
   "outputs": [
    {
     "data": {
      "text/plain": [
       "(5030834, 12)"
      ]
     },
     "execution_count": 26,
     "metadata": {},
     "output_type": "execute_result"
    }
   ],
   "source": [
    "df_curr_dlping.shape"
   ]
  },
  {
   "cell_type": "code",
   "execution_count": 27,
   "metadata": {},
   "outputs": [],
   "source": [
    "combined_df = pd.merge(df, df_curr_dlping, on=\"unit_id\")"
   ]
  },
  {
   "cell_type": "code",
   "execution_count": 218,
   "metadata": {},
   "outputs": [
    {
     "data": {
      "text/html": [
       "<div>\n",
       "<style scoped>\n",
       "    .dataframe tbody tr th:only-of-type {\n",
       "        vertical-align: middle;\n",
       "    }\n",
       "\n",
       "    .dataframe tbody tr th {\n",
       "        vertical-align: top;\n",
       "    }\n",
       "\n",
       "    .dataframe thead th {\n",
       "        text-align: right;\n",
       "    }\n",
       "</style>\n",
       "<table border=\"1\" class=\"dataframe\">\n",
       "  <thead>\n",
       "    <tr style=\"text-align: right;\">\n",
       "      <th></th>\n",
       "      <th>unit_id</th>\n",
       "      <th>isp</th>\n",
       "      <th>TECHNOLOGY</th>\n",
       "      <th>STATE</th>\n",
       "      <th>CENSUS</th>\n",
       "      <th>timezone_offset</th>\n",
       "      <th>timezone_offset_dst</th>\n",
       "      <th>Download</th>\n",
       "      <th>Upload</th>\n",
       "      <th>dtime</th>\n",
       "      <th>target</th>\n",
       "      <th>rtt_avg</th>\n",
       "      <th>rtt_min</th>\n",
       "      <th>rtt_max</th>\n",
       "      <th>rtt_std</th>\n",
       "      <th>successes</th>\n",
       "      <th>failiures</th>\n",
       "      <th>location_id</th>\n",
       "      <th>Am / Pm</th>\n",
       "      <th>Day</th>\n",
       "    </tr>\n",
       "  </thead>\n",
       "  <tbody>\n",
       "    <tr>\n",
       "      <th>0</th>\n",
       "      <td>382</td>\n",
       "      <td>AT&amp;T</td>\n",
       "      <td>UVERSE</td>\n",
       "      <td>SC</td>\n",
       "      <td>SOUTH</td>\n",
       "      <td>-5</td>\n",
       "      <td>-4</td>\n",
       "      <td>12</td>\n",
       "      <td>1</td>\n",
       "      <td>2015-09-04 06:28:46</td>\n",
       "      <td>samknows1.wdc12.level3.net</td>\n",
       "      <td>115081</td>\n",
       "      <td>38203</td>\n",
       "      <td>244663</td>\n",
       "      <td>44783</td>\n",
       "      <td>243</td>\n",
       "      <td>101</td>\n",
       "      <td>836802</td>\n",
       "      <td>AM</td>\n",
       "      <td>Friday</td>\n",
       "    </tr>\n",
       "    <tr>\n",
       "      <th>1</th>\n",
       "      <td>382</td>\n",
       "      <td>AT&amp;T</td>\n",
       "      <td>UVERSE</td>\n",
       "      <td>SC</td>\n",
       "      <td>SOUTH</td>\n",
       "      <td>-5</td>\n",
       "      <td>-4</td>\n",
       "      <td>12</td>\n",
       "      <td>1</td>\n",
       "      <td>2015-09-04 06:31:07</td>\n",
       "      <td>samknows1.wdc12.level3.net</td>\n",
       "      <td>129730</td>\n",
       "      <td>38743</td>\n",
       "      <td>263600</td>\n",
       "      <td>33178</td>\n",
       "      <td>346</td>\n",
       "      <td>9</td>\n",
       "      <td>836802</td>\n",
       "      <td>AM</td>\n",
       "      <td>Friday</td>\n",
       "    </tr>\n",
       "    <tr>\n",
       "      <th>2</th>\n",
       "      <td>382</td>\n",
       "      <td>AT&amp;T</td>\n",
       "      <td>UVERSE</td>\n",
       "      <td>SC</td>\n",
       "      <td>SOUTH</td>\n",
       "      <td>-5</td>\n",
       "      <td>-4</td>\n",
       "      <td>12</td>\n",
       "      <td>1</td>\n",
       "      <td>2015-09-04 08:30:01</td>\n",
       "      <td>samknows1.wdc12.level3.net</td>\n",
       "      <td>134905</td>\n",
       "      <td>40444</td>\n",
       "      <td>327317</td>\n",
       "      <td>41582</td>\n",
       "      <td>349</td>\n",
       "      <td>6</td>\n",
       "      <td>836802</td>\n",
       "      <td>AM</td>\n",
       "      <td>Friday</td>\n",
       "    </tr>\n",
       "    <tr>\n",
       "      <th>3</th>\n",
       "      <td>382</td>\n",
       "      <td>AT&amp;T</td>\n",
       "      <td>UVERSE</td>\n",
       "      <td>SC</td>\n",
       "      <td>SOUTH</td>\n",
       "      <td>-5</td>\n",
       "      <td>-4</td>\n",
       "      <td>12</td>\n",
       "      <td>1</td>\n",
       "      <td>2015-09-04 10:29:12</td>\n",
       "      <td>samknows1.wdc12.level3.net</td>\n",
       "      <td>129683</td>\n",
       "      <td>39056</td>\n",
       "      <td>253122</td>\n",
       "      <td>34148</td>\n",
       "      <td>343</td>\n",
       "      <td>11</td>\n",
       "      <td>836802</td>\n",
       "      <td>AM</td>\n",
       "      <td>Friday</td>\n",
       "    </tr>\n",
       "    <tr>\n",
       "      <th>4</th>\n",
       "      <td>382</td>\n",
       "      <td>AT&amp;T</td>\n",
       "      <td>UVERSE</td>\n",
       "      <td>SC</td>\n",
       "      <td>SOUTH</td>\n",
       "      <td>-5</td>\n",
       "      <td>-4</td>\n",
       "      <td>12</td>\n",
       "      <td>1</td>\n",
       "      <td>2015-09-04 10:31:28</td>\n",
       "      <td>samknows1.wdc12.level3.net</td>\n",
       "      <td>162189</td>\n",
       "      <td>39219</td>\n",
       "      <td>481962</td>\n",
       "      <td>82638</td>\n",
       "      <td>352</td>\n",
       "      <td>5</td>\n",
       "      <td>836802</td>\n",
       "      <td>AM</td>\n",
       "      <td>Friday</td>\n",
       "    </tr>\n",
       "  </tbody>\n",
       "</table>\n",
       "</div>"
      ],
      "text/plain": [
       "   unit_id   isp TECHNOLOGY STATE CENSUS  timezone_offset  \\\n",
       "0      382  AT&T     UVERSE    SC  SOUTH               -5   \n",
       "1      382  AT&T     UVERSE    SC  SOUTH               -5   \n",
       "2      382  AT&T     UVERSE    SC  SOUTH               -5   \n",
       "3      382  AT&T     UVERSE    SC  SOUTH               -5   \n",
       "4      382  AT&T     UVERSE    SC  SOUTH               -5   \n",
       "\n",
       "   timezone_offset_dst Download Upload               dtime  \\\n",
       "0                   -4       12      1 2015-09-04 06:28:46   \n",
       "1                   -4       12      1 2015-09-04 06:31:07   \n",
       "2                   -4       12      1 2015-09-04 08:30:01   \n",
       "3                   -4       12      1 2015-09-04 10:29:12   \n",
       "4                   -4       12      1 2015-09-04 10:31:28   \n",
       "\n",
       "                       target  rtt_avg  rtt_min  rtt_max  rtt_std  successes  \\\n",
       "0  samknows1.wdc12.level3.net   115081    38203   244663    44783        243   \n",
       "1  samknows1.wdc12.level3.net   129730    38743   263600    33178        346   \n",
       "2  samknows1.wdc12.level3.net   134905    40444   327317    41582        349   \n",
       "3  samknows1.wdc12.level3.net   129683    39056   253122    34148        343   \n",
       "4  samknows1.wdc12.level3.net   162189    39219   481962    82638        352   \n",
       "\n",
       "   failiures  location_id Am / Pm     Day  \n",
       "0        101       836802      AM  Friday  \n",
       "1          9       836802      AM  Friday  \n",
       "2          6       836802      AM  Friday  \n",
       "3         11       836802      AM  Friday  \n",
       "4          5       836802      AM  Friday  "
      ]
     },
     "execution_count": 218,
     "metadata": {},
     "output_type": "execute_result"
    }
   ],
   "source": [
    "combined_df.head()"
   ]
  },
  {
   "cell_type": "code",
   "execution_count": 29,
   "metadata": {},
   "outputs": [
    {
     "data": {
      "text/plain": [
       "(5030834, 20)"
      ]
     },
     "execution_count": 29,
     "metadata": {},
     "output_type": "execute_result"
    }
   ],
   "source": [
    "combined_df.shape"
   ]
  },
  {
   "cell_type": "code",
   "execution_count": 223,
   "metadata": {},
   "outputs": [
    {
     "data": {
      "text/plain": [
       "(5030834, 12)"
      ]
     },
     "execution_count": 223,
     "metadata": {},
     "output_type": "execute_result"
    }
   ],
   "source": [
    "df_curr_dlping.shape"
   ]
  },
  {
   "cell_type": "code",
   "execution_count": 1,
   "metadata": {},
   "outputs": [],
   "source": [
    "# download - uploa os in Mega bits per second\n",
    "# box plot with the technology wrt test"
   ]
  },
  {
   "cell_type": "code",
   "execution_count": 220,
   "metadata": {},
   "outputs": [
    {
     "data": {
      "text/plain": [
       "Index(['unit_id', 'isp', 'TECHNOLOGY', 'STATE', 'CENSUS', 'timezone_offset',\n",
       "       'timezone_offset_dst', 'Download', 'Upload', 'dtime', 'target',\n",
       "       'rtt_avg', 'rtt_min', 'rtt_max', 'rtt_std', 'successes', 'failiures',\n",
       "       'location_id', 'Am / Pm', 'Day'],\n",
       "      dtype='object')"
      ]
     },
     "execution_count": 220,
     "metadata": {},
     "output_type": "execute_result"
    }
   ],
   "source": [
    "combined_df.columns"
   ]
  },
  {
   "cell_type": "code",
   "execution_count": 35,
   "metadata": {},
   "outputs": [
    {
     "data": {
      "text/plain": [
       "array(['UVERSE', 'DSL', 'REMOVE', 'MISC', 'CABLE', 'FIBER', 'SATELLITE'],\n",
       "      dtype=object)"
      ]
     },
     "execution_count": 35,
     "metadata": {},
     "output_type": "execute_result"
    }
   ],
   "source": [
    "combined_df.TECHNOLOGY.unique()"
   ]
  },
  {
   "cell_type": "code",
   "execution_count": 219,
   "metadata": {},
   "outputs": [],
   "source": [
    "combined_df.to_csv('df_curr_dlping.csv', encoding='utf-8', index=False)"
   ]
  },
  {
   "cell_type": "code",
   "execution_count": 33,
   "metadata": {},
   "outputs": [],
   "source": [
    "graph_technology_time_dlping=combined_df[['unit_id','TECHNOLOGY','STATE','rtt_avg','Am / Pm','Day']]"
   ]
  },
  {
   "cell_type": "code",
   "execution_count": 36,
   "metadata": {},
   "outputs": [
    {
     "data": {
      "text/plain": [
       "array(['SC', 'IL', 'OH', 'CA', 'MI', 'TX', 'GA', 'IN', 'AL', 'NC', 'FL',\n",
       "       'AR', 'TN', 'WI', 'MO', 'PA', 'DC', 'KY', 'CT', 'KS', 'OK', 'LA',\n",
       "       'MS', 'NV', 'MD', 'UNKNOWN', 'NY', 'Tx', 'AZ', 'NM', 'ID', 'NJ',\n",
       "       'VA', 'UT', 'IA', 'MN', 'OR', 'WA', 'CO', 'MT', 'ND', 'SD', 'WY',\n",
       "       'NE', 'MA', 'NH', 'DE', 'ME', 'WV', 'VT', 'RI', 'Wi', 'HI', 'Ma'],\n",
       "      dtype=object)"
      ]
     },
     "execution_count": 36,
     "metadata": {},
     "output_type": "execute_result"
    }
   ],
   "source": [
    "graph_technology_time_dlping.STATE.unique()"
   ]
  },
  {
   "cell_type": "code",
   "execution_count": 37,
   "metadata": {},
   "outputs": [],
   "source": [
    "graph_technology_time_dlping = graph_technology_time_dlping[graph_technology_time_dlping.STATE != 'UNKNOWN']"
   ]
  },
  {
   "cell_type": "code",
   "execution_count": 38,
   "metadata": {},
   "outputs": [],
   "source": [
    "graph_technology_time_dlping = graph_technology_time_dlping[graph_technology_time_dlping.STATE != 'HI']"
   ]
  },
  {
   "cell_type": "code",
   "execution_count": 45,
   "metadata": {},
   "outputs": [
    {
     "data": {
      "text/html": [
       "<div>\n",
       "<style scoped>\n",
       "    .dataframe tbody tr th:only-of-type {\n",
       "        vertical-align: middle;\n",
       "    }\n",
       "\n",
       "    .dataframe tbody tr th {\n",
       "        vertical-align: top;\n",
       "    }\n",
       "\n",
       "    .dataframe thead th {\n",
       "        text-align: right;\n",
       "    }\n",
       "</style>\n",
       "<table border=\"1\" class=\"dataframe\">\n",
       "  <thead>\n",
       "    <tr style=\"text-align: right;\">\n",
       "      <th></th>\n",
       "      <th>unit_id</th>\n",
       "      <th>TECHNOLOGY</th>\n",
       "      <th>STATE</th>\n",
       "      <th>rtt_avg</th>\n",
       "      <th>Am / Pm</th>\n",
       "      <th>Day</th>\n",
       "    </tr>\n",
       "  </thead>\n",
       "  <tbody>\n",
       "    <tr>\n",
       "      <th>0</th>\n",
       "      <td>382</td>\n",
       "      <td>UVERSE</td>\n",
       "      <td>SC</td>\n",
       "      <td>115081</td>\n",
       "      <td>AM</td>\n",
       "      <td>Friday</td>\n",
       "    </tr>\n",
       "    <tr>\n",
       "      <th>1</th>\n",
       "      <td>382</td>\n",
       "      <td>UVERSE</td>\n",
       "      <td>SC</td>\n",
       "      <td>129730</td>\n",
       "      <td>AM</td>\n",
       "      <td>Friday</td>\n",
       "    </tr>\n",
       "    <tr>\n",
       "      <th>2</th>\n",
       "      <td>382</td>\n",
       "      <td>UVERSE</td>\n",
       "      <td>SC</td>\n",
       "      <td>134905</td>\n",
       "      <td>AM</td>\n",
       "      <td>Friday</td>\n",
       "    </tr>\n",
       "    <tr>\n",
       "      <th>3</th>\n",
       "      <td>382</td>\n",
       "      <td>UVERSE</td>\n",
       "      <td>SC</td>\n",
       "      <td>129683</td>\n",
       "      <td>AM</td>\n",
       "      <td>Friday</td>\n",
       "    </tr>\n",
       "    <tr>\n",
       "      <th>4</th>\n",
       "      <td>382</td>\n",
       "      <td>UVERSE</td>\n",
       "      <td>SC</td>\n",
       "      <td>162189</td>\n",
       "      <td>AM</td>\n",
       "      <td>Friday</td>\n",
       "    </tr>\n",
       "  </tbody>\n",
       "</table>\n",
       "</div>"
      ],
      "text/plain": [
       "   unit_id TECHNOLOGY STATE  rtt_avg Am / Pm     Day\n",
       "0      382     UVERSE    SC   115081      AM  Friday\n",
       "1      382     UVERSE    SC   129730      AM  Friday\n",
       "2      382     UVERSE    SC   134905      AM  Friday\n",
       "3      382     UVERSE    SC   129683      AM  Friday\n",
       "4      382     UVERSE    SC   162189      AM  Friday"
      ]
     },
     "execution_count": 45,
     "metadata": {},
     "output_type": "execute_result"
    }
   ],
   "source": [
    "graph_technology_time_dlping.head()"
   ]
  },
  {
   "cell_type": "code",
   "execution_count": 44,
   "metadata": {},
   "outputs": [
    {
     "data": {
      "text/plain": [
       "52"
      ]
     },
     "execution_count": 44,
     "metadata": {},
     "output_type": "execute_result"
    }
   ],
   "source": [
    "len(graph_technology_time_dlping.STATE.unique())"
   ]
  },
  {
   "cell_type": "code",
   "execution_count": 40,
   "metadata": {},
   "outputs": [
    {
     "data": {
      "text/plain": [
       "<matplotlib.axes._subplots.AxesSubplot at 0x1f330b66e80>"
      ]
     },
     "execution_count": 40,
     "metadata": {},
     "output_type": "execute_result"
    }
   ],
   "source": [
    "graph_technology_time_dlping.plot()"
   ]
  },
  {
   "cell_type": "code",
   "execution_count": 61,
   "metadata": {},
   "outputs": [
    {
     "data": {
      "text/plain": [
       "(4904425, 6)"
      ]
     },
     "execution_count": 61,
     "metadata": {},
     "output_type": "execute_result"
    }
   ],
   "source": [
    "graph_technology_time_dlping.shape"
   ]
  },
  {
   "cell_type": "code",
   "execution_count": 41,
   "metadata": {},
   "outputs": [],
   "source": [
    "import matplotlib.pylab as plt\n",
    "%matplotlib inline"
   ]
  },
  {
   "cell_type": "code",
   "execution_count": 48,
   "metadata": {},
   "outputs": [],
   "source": [
    "import numpy as np"
   ]
  },
  {
   "cell_type": "code",
   "execution_count": 54,
   "metadata": {},
   "outputs": [],
   "source": [
    "def plot_bar_x():\n",
    "    # this is for plotting purpose\n",
    "    index = np.arange(len(graph_technology_time_dlping.STATE.unique()))\n",
    "    plt.bar(graph_technology_time_dlping.STATE.unique(), graph_technology_time_dlping.rtt_avg)\n",
    "    plt.xlabel('STATE', fontsize=5)\n",
    "    plt.ylabel('Rtt_avg', fontsize=5)\n",
    "    plt.yticks(index, graph_technology_time_dlping.STATE.unique(), fontsize=5, rotation=30)\n",
    "    plt.title('Rtt_average per state')\n",
    "    plt.show()"
   ]
  },
  {
   "cell_type": "code",
   "execution_count": 57,
   "metadata": {},
   "outputs": [],
   "source": [
    "graph_technology_time_dlping_monday_AM = graph_technology_time_dlping[graph_technology_time_dlping['Am / Pm'] != 'PM']"
   ]
  },
  {
   "cell_type": "code",
   "execution_count": 59,
   "metadata": {},
   "outputs": [],
   "source": [
    "graph_technology_time_dlping_monday_AM = graph_technology_time_dlping[graph_technology_time_dlping['Day'] == 'Monday']"
   ]
  },
  {
   "cell_type": "code",
   "execution_count": 60,
   "metadata": {},
   "outputs": [
    {
     "data": {
      "text/plain": [
       "(647026, 6)"
      ]
     },
     "execution_count": 60,
     "metadata": {},
     "output_type": "execute_result"
    }
   ],
   "source": [
    "graph_technology_time_dlping_monday_AM.shape"
   ]
  },
  {
   "cell_type": "code",
   "execution_count": 62,
   "metadata": {},
   "outputs": [
    {
     "data": {
      "text/html": [
       "<div>\n",
       "<style scoped>\n",
       "    .dataframe tbody tr th:only-of-type {\n",
       "        vertical-align: middle;\n",
       "    }\n",
       "\n",
       "    .dataframe tbody tr th {\n",
       "        vertical-align: top;\n",
       "    }\n",
       "\n",
       "    .dataframe thead th {\n",
       "        text-align: right;\n",
       "    }\n",
       "</style>\n",
       "<table border=\"1\" class=\"dataframe\">\n",
       "  <thead>\n",
       "    <tr style=\"text-align: right;\">\n",
       "      <th></th>\n",
       "      <th>unit_id</th>\n",
       "      <th>TECHNOLOGY</th>\n",
       "      <th>STATE</th>\n",
       "      <th>rtt_avg</th>\n",
       "      <th>Am / Pm</th>\n",
       "      <th>Day</th>\n",
       "    </tr>\n",
       "  </thead>\n",
       "  <tbody>\n",
       "    <tr>\n",
       "      <th>48</th>\n",
       "      <td>382</td>\n",
       "      <td>UVERSE</td>\n",
       "      <td>SC</td>\n",
       "      <td>135134</td>\n",
       "      <td>AM</td>\n",
       "      <td>Monday</td>\n",
       "    </tr>\n",
       "    <tr>\n",
       "      <th>49</th>\n",
       "      <td>382</td>\n",
       "      <td>UVERSE</td>\n",
       "      <td>SC</td>\n",
       "      <td>122785</td>\n",
       "      <td>AM</td>\n",
       "      <td>Monday</td>\n",
       "    </tr>\n",
       "    <tr>\n",
       "      <th>50</th>\n",
       "      <td>382</td>\n",
       "      <td>UVERSE</td>\n",
       "      <td>SC</td>\n",
       "      <td>132223</td>\n",
       "      <td>AM</td>\n",
       "      <td>Monday</td>\n",
       "    </tr>\n",
       "    <tr>\n",
       "      <th>51</th>\n",
       "      <td>382</td>\n",
       "      <td>UVERSE</td>\n",
       "      <td>SC</td>\n",
       "      <td>134575</td>\n",
       "      <td>AM</td>\n",
       "      <td>Monday</td>\n",
       "    </tr>\n",
       "    <tr>\n",
       "      <th>102</th>\n",
       "      <td>382</td>\n",
       "      <td>UVERSE</td>\n",
       "      <td>SC</td>\n",
       "      <td>125831</td>\n",
       "      <td>AM</td>\n",
       "      <td>Monday</td>\n",
       "    </tr>\n",
       "  </tbody>\n",
       "</table>\n",
       "</div>"
      ],
      "text/plain": [
       "     unit_id TECHNOLOGY STATE  rtt_avg Am / Pm     Day\n",
       "48       382     UVERSE    SC   135134      AM  Monday\n",
       "49       382     UVERSE    SC   122785      AM  Monday\n",
       "50       382     UVERSE    SC   132223      AM  Monday\n",
       "51       382     UVERSE    SC   134575      AM  Monday\n",
       "102      382     UVERSE    SC   125831      AM  Monday"
      ]
     },
     "execution_count": 62,
     "metadata": {},
     "output_type": "execute_result"
    }
   ],
   "source": [
    "graph_technology_time_dlping_monday_AM.head()"
   ]
  },
  {
   "cell_type": "code",
   "execution_count": 63,
   "metadata": {},
   "outputs": [
    {
     "data": {
      "text/plain": [
       "132635419584"
      ]
     },
     "execution_count": 63,
     "metadata": {},
     "output_type": "execute_result"
    }
   ],
   "source": [
    "graph_technology_time_dlping_monday_AM.rtt_avg.sum()"
   ]
  },
  {
   "cell_type": "code",
   "execution_count": 65,
   "metadata": {},
   "outputs": [
    {
     "data": {
      "text/plain": [
       "(647026,)"
      ]
     },
     "execution_count": 65,
     "metadata": {},
     "output_type": "execute_result"
    }
   ],
   "source": [
    "graph_technology_time_dlping_monday_AM.rtt_avg.shape"
   ]
  },
  {
   "cell_type": "code",
   "execution_count": 66,
   "metadata": {},
   "outputs": [
    {
     "data": {
      "text/plain": [
       "204992.4107902928"
      ]
     },
     "execution_count": 66,
     "metadata": {},
     "output_type": "execute_result"
    }
   ],
   "source": [
    "132635419584/647026"
   ]
  },
  {
   "cell_type": "code",
   "execution_count": 85,
   "metadata": {},
   "outputs": [],
   "source": [
    "\n",
    "state_list=graph_technology_time_dlping_monday_AM['STATE'].unique()\n",
    "\n",
    "    "
   ]
  },
  {
   "cell_type": "code",
   "execution_count": 167,
   "metadata": {},
   "outputs": [],
   "source": [
    "monday_AM_dlping = pd.DataFrame(columns=['STATE','rtt_avg'])\n"
   ]
  },
  {
   "cell_type": "code",
   "execution_count": 168,
   "metadata": {},
   "outputs": [
    {
     "data": {
      "text/plain": [
       "array(['UVERSE', 'DSL', 'REMOVE', 'MISC', 'CABLE', 'FIBER', 'SATELLITE'],\n",
       "      dtype=object)"
      ]
     },
     "execution_count": 168,
     "metadata": {},
     "output_type": "execute_result"
    }
   ],
   "source": [
    "graph_technology_time_dlping_monday_AM.TECHNOLOGY.unique()"
   ]
  },
  {
   "cell_type": "code",
   "execution_count": 169,
   "metadata": {},
   "outputs": [
    {
     "name": "stderr",
     "output_type": "stream",
     "text": [
      "C:\\Users\\Ishmita\\Anaconda3\\lib\\site-packages\\ipykernel_launcher.py:1: UserWarning: Boolean Series key will be reindexed to match DataFrame index.\n",
      "  \"\"\"Entry point for launching an IPython kernel.\n"
     ]
    }
   ],
   "source": [
    "monday_AM_dlping_UVERSE=graph_technology_time_dlping_monday_AM[graph_technology_time_dlping['TECHNOLOGY'] == 'UVERSE']"
   ]
  },
  {
   "cell_type": "code",
   "execution_count": 170,
   "metadata": {},
   "outputs": [
    {
     "data": {
      "text/plain": [
       "4189418899"
      ]
     },
     "execution_count": 170,
     "metadata": {},
     "output_type": "execute_result"
    }
   ],
   "source": [
    "monday_AM_dlping_UVERSE.rtt_avg.sum()"
   ]
  },
  {
   "cell_type": "code",
   "execution_count": 171,
   "metadata": {},
   "outputs": [
    {
     "data": {
      "text/plain": [
       "(53990,)"
      ]
     },
     "execution_count": 171,
     "metadata": {},
     "output_type": "execute_result"
    }
   ],
   "source": [
    "monday_AM_dlping_UVERSE.rtt_avg.shape"
   ]
  },
  {
   "cell_type": "code",
   "execution_count": 172,
   "metadata": {},
   "outputs": [
    {
     "data": {
      "text/plain": [
       "77596.20112983885"
      ]
     },
     "execution_count": 172,
     "metadata": {},
     "output_type": "execute_result"
    }
   ],
   "source": [
    "4189418899/53990"
   ]
  },
  {
   "cell_type": "code",
   "execution_count": 173,
   "metadata": {},
   "outputs": [],
   "source": [
    "monday_AM_dlping_UVERSE_rtt_avg=77596"
   ]
  },
  {
   "cell_type": "code",
   "execution_count": 174,
   "metadata": {},
   "outputs": [],
   "source": [
    "monday_AM_dlping = pd.DataFrame(columns=['TECHNOLOGY','rtt_avg'])\n"
   ]
  },
  {
   "cell_type": "code",
   "execution_count": 175,
   "metadata": {},
   "outputs": [],
   "source": [
    "\n",
    "monday_AM_dlping = monday_AM_dlping.append({'TECHNOLOGY': 'UVERSE','rtt_avg': 77596}, ignore_index=True)"
   ]
  },
  {
   "cell_type": "code",
   "execution_count": 176,
   "metadata": {},
   "outputs": [
    {
     "data": {
      "text/html": [
       "<div>\n",
       "<style scoped>\n",
       "    .dataframe tbody tr th:only-of-type {\n",
       "        vertical-align: middle;\n",
       "    }\n",
       "\n",
       "    .dataframe tbody tr th {\n",
       "        vertical-align: top;\n",
       "    }\n",
       "\n",
       "    .dataframe thead th {\n",
       "        text-align: right;\n",
       "    }\n",
       "</style>\n",
       "<table border=\"1\" class=\"dataframe\">\n",
       "  <thead>\n",
       "    <tr style=\"text-align: right;\">\n",
       "      <th></th>\n",
       "      <th>TECHNOLOGY</th>\n",
       "      <th>rtt_avg</th>\n",
       "    </tr>\n",
       "  </thead>\n",
       "  <tbody>\n",
       "    <tr>\n",
       "      <th>0</th>\n",
       "      <td>UVERSE</td>\n",
       "      <td>77596</td>\n",
       "    </tr>\n",
       "  </tbody>\n",
       "</table>\n",
       "</div>"
      ],
      "text/plain": [
       "  TECHNOLOGY rtt_avg\n",
       "0     UVERSE   77596"
      ]
     },
     "execution_count": 176,
     "metadata": {},
     "output_type": "execute_result"
    }
   ],
   "source": [
    "monday_AM_dlping.head()"
   ]
  },
  {
   "cell_type": "code",
   "execution_count": 177,
   "metadata": {},
   "outputs": [
    {
     "name": "stderr",
     "output_type": "stream",
     "text": [
      "C:\\Users\\Ishmita\\Anaconda3\\lib\\site-packages\\ipykernel_launcher.py:1: UserWarning: Boolean Series key will be reindexed to match DataFrame index.\n",
      "  \"\"\"Entry point for launching an IPython kernel.\n"
     ]
    }
   ],
   "source": [
    "monday_AM_dlping_DSL=graph_technology_time_dlping_monday_AM[graph_technology_time_dlping['TECHNOLOGY'] == 'DSL']"
   ]
  },
  {
   "cell_type": "code",
   "execution_count": 178,
   "metadata": {},
   "outputs": [],
   "source": [
    "rtt_avg_sum=monday_AM_dlping_DSL.rtt_avg.sum()\n"
   ]
  },
  {
   "cell_type": "code",
   "execution_count": 179,
   "metadata": {},
   "outputs": [
    {
     "data": {
      "text/plain": [
       "(113331,)"
      ]
     },
     "execution_count": 179,
     "metadata": {},
     "output_type": "execute_result"
    }
   ],
   "source": [
    "monday_AM_dlping_DSL.rtt_avg.shape"
   ]
  },
  {
   "cell_type": "code",
   "execution_count": 180,
   "metadata": {},
   "outputs": [
    {
     "data": {
      "text/plain": [
       "296998.1011726712"
      ]
     },
     "execution_count": 180,
     "metadata": {},
     "output_type": "execute_result"
    }
   ],
   "source": [
    "rtt_avg_sum/113331"
   ]
  },
  {
   "cell_type": "code",
   "execution_count": 181,
   "metadata": {},
   "outputs": [],
   "source": [
    "monday_AM_dlping = monday_AM_dlping.append({'TECHNOLOGY': 'DSL','rtt_avg': 296998}, ignore_index=True)"
   ]
  },
  {
   "cell_type": "code",
   "execution_count": 182,
   "metadata": {},
   "outputs": [
    {
     "data": {
      "text/html": [
       "<div>\n",
       "<style scoped>\n",
       "    .dataframe tbody tr th:only-of-type {\n",
       "        vertical-align: middle;\n",
       "    }\n",
       "\n",
       "    .dataframe tbody tr th {\n",
       "        vertical-align: top;\n",
       "    }\n",
       "\n",
       "    .dataframe thead th {\n",
       "        text-align: right;\n",
       "    }\n",
       "</style>\n",
       "<table border=\"1\" class=\"dataframe\">\n",
       "  <thead>\n",
       "    <tr style=\"text-align: right;\">\n",
       "      <th></th>\n",
       "      <th>TECHNOLOGY</th>\n",
       "      <th>rtt_avg</th>\n",
       "    </tr>\n",
       "  </thead>\n",
       "  <tbody>\n",
       "    <tr>\n",
       "      <th>0</th>\n",
       "      <td>UVERSE</td>\n",
       "      <td>77596</td>\n",
       "    </tr>\n",
       "    <tr>\n",
       "      <th>1</th>\n",
       "      <td>DSL</td>\n",
       "      <td>296998</td>\n",
       "    </tr>\n",
       "  </tbody>\n",
       "</table>\n",
       "</div>"
      ],
      "text/plain": [
       "  TECHNOLOGY rtt_avg\n",
       "0     UVERSE   77596\n",
       "1        DSL  296998"
      ]
     },
     "execution_count": 182,
     "metadata": {},
     "output_type": "execute_result"
    }
   ],
   "source": [
    "monday_AM_dlping.head()"
   ]
  },
  {
   "cell_type": "code",
   "execution_count": 183,
   "metadata": {},
   "outputs": [
    {
     "name": "stderr",
     "output_type": "stream",
     "text": [
      "C:\\Users\\Ishmita\\Anaconda3\\lib\\site-packages\\ipykernel_launcher.py:1: UserWarning: Boolean Series key will be reindexed to match DataFrame index.\n",
      "  \"\"\"Entry point for launching an IPython kernel.\n"
     ]
    }
   ],
   "source": [
    "monday_AM_dlping_CABLE=graph_technology_time_dlping_monday_AM[graph_technology_time_dlping['TECHNOLOGY'] == 'CABLE']\n",
    "rtt_avg_sum=monday_AM_dlping_CABLE.rtt_avg.sum()"
   ]
  },
  {
   "cell_type": "code",
   "execution_count": 184,
   "metadata": {},
   "outputs": [
    {
     "data": {
      "text/plain": [
       "(308421,)"
      ]
     },
     "execution_count": 184,
     "metadata": {},
     "output_type": "execute_result"
    }
   ],
   "source": [
    "monday_AM_dlping_CABLE.rtt_avg.shape"
   ]
  },
  {
   "cell_type": "code",
   "execution_count": 185,
   "metadata": {},
   "outputs": [
    {
     "data": {
      "text/plain": [
       "209229.7350926169"
      ]
     },
     "execution_count": 185,
     "metadata": {},
     "output_type": "execute_result"
    }
   ],
   "source": [
    "rtt_avg_sum/308421"
   ]
  },
  {
   "cell_type": "code",
   "execution_count": 186,
   "metadata": {},
   "outputs": [],
   "source": [
    "monday_AM_dlping = monday_AM_dlping.append({'TECHNOLOGY': 'CABLE','rtt_avg': 209229}, ignore_index=True)"
   ]
  },
  {
   "cell_type": "code",
   "execution_count": 187,
   "metadata": {},
   "outputs": [
    {
     "data": {
      "text/html": [
       "<div>\n",
       "<style scoped>\n",
       "    .dataframe tbody tr th:only-of-type {\n",
       "        vertical-align: middle;\n",
       "    }\n",
       "\n",
       "    .dataframe tbody tr th {\n",
       "        vertical-align: top;\n",
       "    }\n",
       "\n",
       "    .dataframe thead th {\n",
       "        text-align: right;\n",
       "    }\n",
       "</style>\n",
       "<table border=\"1\" class=\"dataframe\">\n",
       "  <thead>\n",
       "    <tr style=\"text-align: right;\">\n",
       "      <th></th>\n",
       "      <th>TECHNOLOGY</th>\n",
       "      <th>rtt_avg</th>\n",
       "    </tr>\n",
       "  </thead>\n",
       "  <tbody>\n",
       "    <tr>\n",
       "      <th>0</th>\n",
       "      <td>UVERSE</td>\n",
       "      <td>77596</td>\n",
       "    </tr>\n",
       "    <tr>\n",
       "      <th>1</th>\n",
       "      <td>DSL</td>\n",
       "      <td>296998</td>\n",
       "    </tr>\n",
       "    <tr>\n",
       "      <th>2</th>\n",
       "      <td>CABLE</td>\n",
       "      <td>209229</td>\n",
       "    </tr>\n",
       "  </tbody>\n",
       "</table>\n",
       "</div>"
      ],
      "text/plain": [
       "  TECHNOLOGY rtt_avg\n",
       "0     UVERSE   77596\n",
       "1        DSL  296998\n",
       "2      CABLE  209229"
      ]
     },
     "execution_count": 187,
     "metadata": {},
     "output_type": "execute_result"
    }
   ],
   "source": [
    "monday_AM_dlping.head()"
   ]
  },
  {
   "cell_type": "code",
   "execution_count": 188,
   "metadata": {},
   "outputs": [
    {
     "name": "stderr",
     "output_type": "stream",
     "text": [
      "C:\\Users\\Ishmita\\Anaconda3\\lib\\site-packages\\ipykernel_launcher.py:1: UserWarning: Boolean Series key will be reindexed to match DataFrame index.\n",
      "  \"\"\"Entry point for launching an IPython kernel.\n"
     ]
    }
   ],
   "source": [
    "monday_AM_dlping_FIBER=graph_technology_time_dlping_monday_AM[graph_technology_time_dlping['TECHNOLOGY'] == 'FIBER']\n",
    "rtt_avg_sum=monday_AM_dlping_FIBER.rtt_avg.sum()"
   ]
  },
  {
   "cell_type": "code",
   "execution_count": 189,
   "metadata": {},
   "outputs": [],
   "source": [
    "rtt_avg_sum=monday_AM_dlping_FIBER.rtt_avg.sum()"
   ]
  },
  {
   "cell_type": "code",
   "execution_count": 190,
   "metadata": {},
   "outputs": [
    {
     "data": {
      "text/plain": [
       "(65621,)"
      ]
     },
     "execution_count": 190,
     "metadata": {},
     "output_type": "execute_result"
    }
   ],
   "source": [
    "monday_AM_dlping_FIBER.rtt_avg.shape"
   ]
  },
  {
   "cell_type": "code",
   "execution_count": 191,
   "metadata": {},
   "outputs": [
    {
     "data": {
      "text/plain": [
       "124211.83354413984"
      ]
     },
     "execution_count": 191,
     "metadata": {},
     "output_type": "execute_result"
    }
   ],
   "source": [
    "rtt_avg_sum/65621"
   ]
  },
  {
   "cell_type": "code",
   "execution_count": 192,
   "metadata": {},
   "outputs": [],
   "source": [
    "monday_AM_dlping = monday_AM_dlping.append({'TECHNOLOGY': 'FIBER','rtt_avg': 124211}, ignore_index=True)"
   ]
  },
  {
   "cell_type": "code",
   "execution_count": 193,
   "metadata": {},
   "outputs": [
    {
     "name": "stderr",
     "output_type": "stream",
     "text": [
      "C:\\Users\\Ishmita\\Anaconda3\\lib\\site-packages\\ipykernel_launcher.py:1: UserWarning: Boolean Series key will be reindexed to match DataFrame index.\n",
      "  \"\"\"Entry point for launching an IPython kernel.\n"
     ]
    }
   ],
   "source": [
    "monday_AM_dlping_SATELLITE=graph_technology_time_dlping_monday_AM[graph_technology_time_dlping['TECHNOLOGY'] == 'SATELLITE']\n",
    "rtt_avg_sum=monday_AM_dlping_SATELLITE.rtt_avg.sum()"
   ]
  },
  {
   "cell_type": "code",
   "execution_count": 194,
   "metadata": {},
   "outputs": [
    {
     "data": {
      "text/plain": [
       "(8219,)"
      ]
     },
     "execution_count": 194,
     "metadata": {},
     "output_type": "execute_result"
    }
   ],
   "source": [
    "monday_AM_dlping_SATELLITE.rtt_avg.shape"
   ]
  },
  {
   "cell_type": "code",
   "execution_count": 195,
   "metadata": {},
   "outputs": [
    {
     "data": {
      "text/plain": [
       "(8219, 6)"
      ]
     },
     "execution_count": 195,
     "metadata": {},
     "output_type": "execute_result"
    }
   ],
   "source": [
    "monday_AM_dlping_SATELLITE.shape"
   ]
  },
  {
   "cell_type": "code",
   "execution_count": 196,
   "metadata": {},
   "outputs": [
    {
     "data": {
      "text/plain": [
       "705927.301739871"
      ]
     },
     "execution_count": 196,
     "metadata": {},
     "output_type": "execute_result"
    }
   ],
   "source": [
    "rtt_avg_sum/8219"
   ]
  },
  {
   "cell_type": "code",
   "execution_count": 197,
   "metadata": {},
   "outputs": [],
   "source": [
    "monday_AM_dlping = monday_AM_dlping.append({'TECHNOLOGY': 'SATELLITE','rtt_avg': 705927}, ignore_index=True)"
   ]
  },
  {
   "cell_type": "code",
   "execution_count": 198,
   "metadata": {},
   "outputs": [
    {
     "data": {
      "text/html": [
       "<div>\n",
       "<style scoped>\n",
       "    .dataframe tbody tr th:only-of-type {\n",
       "        vertical-align: middle;\n",
       "    }\n",
       "\n",
       "    .dataframe tbody tr th {\n",
       "        vertical-align: top;\n",
       "    }\n",
       "\n",
       "    .dataframe thead th {\n",
       "        text-align: right;\n",
       "    }\n",
       "</style>\n",
       "<table border=\"1\" class=\"dataframe\">\n",
       "  <thead>\n",
       "    <tr style=\"text-align: right;\">\n",
       "      <th></th>\n",
       "      <th>TECHNOLOGY</th>\n",
       "      <th>rtt_avg</th>\n",
       "    </tr>\n",
       "  </thead>\n",
       "  <tbody>\n",
       "    <tr>\n",
       "      <th>0</th>\n",
       "      <td>UVERSE</td>\n",
       "      <td>77596</td>\n",
       "    </tr>\n",
       "    <tr>\n",
       "      <th>1</th>\n",
       "      <td>DSL</td>\n",
       "      <td>296998</td>\n",
       "    </tr>\n",
       "    <tr>\n",
       "      <th>2</th>\n",
       "      <td>CABLE</td>\n",
       "      <td>209229</td>\n",
       "    </tr>\n",
       "    <tr>\n",
       "      <th>3</th>\n",
       "      <td>FIBER</td>\n",
       "      <td>124211</td>\n",
       "    </tr>\n",
       "    <tr>\n",
       "      <th>4</th>\n",
       "      <td>SATELLITE</td>\n",
       "      <td>705927</td>\n",
       "    </tr>\n",
       "  </tbody>\n",
       "</table>\n",
       "</div>"
      ],
      "text/plain": [
       "  TECHNOLOGY rtt_avg\n",
       "0     UVERSE   77596\n",
       "1        DSL  296998\n",
       "2      CABLE  209229\n",
       "3      FIBER  124211\n",
       "4  SATELLITE  705927"
      ]
     },
     "execution_count": 198,
     "metadata": {},
     "output_type": "execute_result"
    }
   ],
   "source": [
    "monday_AM_dlping"
   ]
  },
  {
   "cell_type": "code",
   "execution_count": 204,
   "metadata": {},
   "outputs": [],
   "source": [
    "monday_AM_dlping['rtt_avg']=monday_AM_dlping['rtt_avg']/1000"
   ]
  },
  {
   "cell_type": "markdown",
   "metadata": {},
   "source": [
    "rtt_average is in mili seconds"
   ]
  },
  {
   "cell_type": "code",
   "execution_count": 217,
   "metadata": {},
   "outputs": [
    {
     "data": {
      "text/plain": [
       "<matplotlib.axes._subplots.AxesSubplot at 0x1f331d43668>"
      ]
     },
     "execution_count": 217,
     "metadata": {},
     "output_type": "execute_result"
    },
    {
     "data": {
      "image/png": "[encoded data removed]",
      "text/plain": [
       "<Figure size 432x288 with 1 Axes>"
      ]
     },
     "metadata": {},
     "output_type": "display_data"
    }
   ],
   "source": [
    "monday_AM_dlping.plot(kind='bar',x='TECHNOLOGY', y='rtt_avg',color ='blue')"
   ]
  },
  {
   "cell_type": "code",
   "execution_count": 211,
   "metadata": {},
   "outputs": [
    {
     "ename": "SyntaxError",
     "evalue": "invalid syntax (<ipython-input-211-03ebc92a268f>, line 1)",
     "output_type": "error",
     "traceback": [
      "\u001b[1;36m  File \u001b[1;32m\"<ipython-input-211-03ebc92a268f>\"\u001b[1;36m, line \u001b[1;32m1\u001b[0m\n\u001b[1;33m    satellites have more rtt because of obvious reasons\u001b[0m\n\u001b[1;37m                  ^\u001b[0m\n\u001b[1;31mSyntaxError\u001b[0m\u001b[1;31m:\u001b[0m invalid syntax\n"
     ]
    }
   ],
   "source": [
    "satellites have more rtt because of obvious reasons"
   ]
  },
  {
   "cell_type": "code",
   "execution_count": 200,
   "metadata": {},
   "outputs": [
    {
     "data": {
      "text/plain": [
       "0       UVERSE\n",
       "1          DSL\n",
       "2        CABLE\n",
       "3        FIBER\n",
       "4    SATELLITE\n",
       "Name: TECHNOLOGY, dtype: object"
      ]
     },
     "execution_count": 200,
     "metadata": {},
     "output_type": "execute_result"
    }
   ],
   "source": [
    "monday_AM_dlping['TECHNOLOGY']"
   ]
  },
  {
   "cell_type": "code",
   "execution_count": 203,
   "metadata": {},
   "outputs": [
    {
     "ename": "TypeError",
     "evalue": "ufunc 'add' did not contain a loop with signature matching types dtype('<U32') dtype('<U32') dtype('<U32')",
     "output_type": "error",
     "traceback": [
      "\u001b[1;31m---------------------------------------------------------------------------\u001b[0m",
      "\u001b[1;31mTypeError\u001b[0m                                 Traceback (most recent call last)",
      "\u001b[1;32m~\\Anaconda3\\lib\\site-packages\\pandas\\core\\ops.py\u001b[0m in \u001b[0;36mna_op\u001b[1;34m(x, y)\u001b[0m\n\u001b[0;32m   1011\u001b[0m         \u001b[1;32mtry\u001b[0m\u001b[1;33m:\u001b[0m\u001b[1;33m\u001b[0m\u001b[0m\n\u001b[1;32m-> 1012\u001b[1;33m             \u001b[0mresult\u001b[0m \u001b[1;33m=\u001b[0m \u001b[0mexpressions\u001b[0m\u001b[1;33m.\u001b[0m\u001b[0mevaluate\u001b[0m\u001b[1;33m(\u001b[0m\u001b[0mop\u001b[0m\u001b[1;33m,\u001b[0m \u001b[0mstr_rep\u001b[0m\u001b[1;33m,\u001b[0m \u001b[0mx\u001b[0m\u001b[1;33m,\u001b[0m \u001b[0my\u001b[0m\u001b[1;33m,\u001b[0m \u001b[1;33m**\u001b[0m\u001b[0meval_kwargs\u001b[0m\u001b[1;33m)\u001b[0m\u001b[1;33m\u001b[0m\u001b[0m\n\u001b[0m\u001b[0;32m   1013\u001b[0m         \u001b[1;32mexcept\u001b[0m \u001b[0mTypeError\u001b[0m\u001b[1;33m:\u001b[0m\u001b[1;33m\u001b[0m\u001b[0m\n",
      "\u001b[1;32m~\\Anaconda3\\lib\\site-packages\\pandas\\core\\computation\\expressions.py\u001b[0m in \u001b[0;36mevaluate\u001b[1;34m(op, op_str, a, b, use_numexpr, **eval_kwargs)\u001b[0m\n\u001b[0;32m    204\u001b[0m     \u001b[1;32mif\u001b[0m \u001b[0muse_numexpr\u001b[0m\u001b[1;33m:\u001b[0m\u001b[1;33m\u001b[0m\u001b[0m\n\u001b[1;32m--> 205\u001b[1;33m         \u001b[1;32mreturn\u001b[0m \u001b[0m_evaluate\u001b[0m\u001b[1;33m(\u001b[0m\u001b[0mop\u001b[0m\u001b[1;33m,\u001b[0m \u001b[0mop_str\u001b[0m\u001b[1;33m,\u001b[0m \u001b[0ma\u001b[0m\u001b[1;33m,\u001b[0m \u001b[0mb\u001b[0m\u001b[1;33m,\u001b[0m \u001b[1;33m**\u001b[0m\u001b[0meval_kwargs\u001b[0m\u001b[1;33m)\u001b[0m\u001b[1;33m\u001b[0m\u001b[0m\n\u001b[0m\u001b[0;32m    206\u001b[0m     \u001b[1;32mreturn\u001b[0m \u001b[0m_evaluate_standard\u001b[0m\u001b[1;33m(\u001b[0m\u001b[0mop\u001b[0m\u001b[1;33m,\u001b[0m \u001b[0mop_str\u001b[0m\u001b[1;33m,\u001b[0m \u001b[0ma\u001b[0m\u001b[1;33m,\u001b[0m \u001b[0mb\u001b[0m\u001b[1;33m)\u001b[0m\u001b[1;33m\u001b[0m\u001b[0m\n",
      "\u001b[1;32m~\\Anaconda3\\lib\\site-packages\\pandas\\core\\computation\\expressions.py\u001b[0m in \u001b[0;36m_evaluate_numexpr\u001b[1;34m(op, op_str, a, b, truediv, reversed, **eval_kwargs)\u001b[0m\n\u001b[0;32m    119\u001b[0m     \u001b[1;32mif\u001b[0m \u001b[0mresult\u001b[0m \u001b[1;32mis\u001b[0m \u001b[1;32mNone\u001b[0m\u001b[1;33m:\u001b[0m\u001b[1;33m\u001b[0m\u001b[0m\n\u001b[1;32m--> 120\u001b[1;33m         \u001b[0mresult\u001b[0m \u001b[1;33m=\u001b[0m \u001b[0m_evaluate_standard\u001b[0m\u001b[1;33m(\u001b[0m\u001b[0mop\u001b[0m\u001b[1;33m,\u001b[0m \u001b[0mop_str\u001b[0m\u001b[1;33m,\u001b[0m \u001b[0ma\u001b[0m\u001b[1;33m,\u001b[0m \u001b[0mb\u001b[0m\u001b[1;33m)\u001b[0m\u001b[1;33m\u001b[0m\u001b[0m\n\u001b[0m\u001b[0;32m    121\u001b[0m \u001b[1;33m\u001b[0m\u001b[0m\n",
      "\u001b[1;32m~\\Anaconda3\\lib\\site-packages\\pandas\\core\\computation\\expressions.py\u001b[0m in \u001b[0;36m_evaluate_standard\u001b[1;34m(op, op_str, a, b, **eval_kwargs)\u001b[0m\n\u001b[0;32m     64\u001b[0m     \u001b[1;32mwith\u001b[0m \u001b[0mnp\u001b[0m\u001b[1;33m.\u001b[0m\u001b[0merrstate\u001b[0m\u001b[1;33m(\u001b[0m\u001b[0mall\u001b[0m\u001b[1;33m=\u001b[0m\u001b[1;34m'ignore'\u001b[0m\u001b[1;33m)\u001b[0m\u001b[1;33m:\u001b[0m\u001b[1;33m\u001b[0m\u001b[0m\n\u001b[1;32m---> 65\u001b[1;33m         \u001b[1;32mreturn\u001b[0m \u001b[0mop\u001b[0m\u001b[1;33m(\u001b[0m\u001b[0ma\u001b[0m\u001b[1;33m,\u001b[0m \u001b[0mb\u001b[0m\u001b[1;33m)\u001b[0m\u001b[1;33m\u001b[0m\u001b[0m\n\u001b[0m\u001b[0;32m     66\u001b[0m \u001b[1;33m\u001b[0m\u001b[0m\n",
      "\u001b[1;32m~\\Anaconda3\\lib\\site-packages\\pandas\\core\\ops.py\u001b[0m in \u001b[0;36mradd\u001b[1;34m(left, right)\u001b[0m\n\u001b[0;32m    112\u001b[0m \u001b[1;32mdef\u001b[0m \u001b[0mradd\u001b[0m\u001b[1;33m(\u001b[0m\u001b[0mleft\u001b[0m\u001b[1;33m,\u001b[0m \u001b[0mright\u001b[0m\u001b[1;33m)\u001b[0m\u001b[1;33m:\u001b[0m\u001b[1;33m\u001b[0m\u001b[0m\n\u001b[1;32m--> 113\u001b[1;33m     \u001b[1;32mreturn\u001b[0m \u001b[0mright\u001b[0m \u001b[1;33m+\u001b[0m \u001b[0mleft\u001b[0m\u001b[1;33m\u001b[0m\u001b[0m\n\u001b[0m\u001b[0;32m    114\u001b[0m \u001b[1;33m\u001b[0m\u001b[0m\n",
      "\u001b[1;31mTypeError\u001b[0m: unsupported operand type(s) for +: 'float' and 'str'",
      "\nDuring handling of the above exception, another exception occurred:\n",
      "\u001b[1;31mTypeError\u001b[0m                                 Traceback (most recent call last)",
      "\u001b[1;32m~\\Anaconda3\\lib\\site-packages\\pandas\\core\\ops.py\u001b[0m in \u001b[0;36msafe_na_op\u001b[1;34m(lvalues, rvalues)\u001b[0m\n\u001b[0;32m   1032\u001b[0m             \u001b[1;32mwith\u001b[0m \u001b[0mnp\u001b[0m\u001b[1;33m.\u001b[0m\u001b[0merrstate\u001b[0m\u001b[1;33m(\u001b[0m\u001b[0mall\u001b[0m\u001b[1;33m=\u001b[0m\u001b[1;34m'ignore'\u001b[0m\u001b[1;33m)\u001b[0m\u001b[1;33m:\u001b[0m\u001b[1;33m\u001b[0m\u001b[0m\n\u001b[1;32m-> 1033\u001b[1;33m                 \u001b[1;32mreturn\u001b[0m \u001b[0mna_op\u001b[0m\u001b[1;33m(\u001b[0m\u001b[0mlvalues\u001b[0m\u001b[1;33m,\u001b[0m \u001b[0mrvalues\u001b[0m\u001b[1;33m)\u001b[0m\u001b[1;33m\u001b[0m\u001b[0m\n\u001b[0m\u001b[0;32m   1034\u001b[0m         \u001b[1;32mexcept\u001b[0m \u001b[0mException\u001b[0m\u001b[1;33m:\u001b[0m\u001b[1;33m\u001b[0m\u001b[0m\n",
      "\u001b[1;32m~\\Anaconda3\\lib\\site-packages\\pandas\\core\\ops.py\u001b[0m in \u001b[0;36mna_op\u001b[1;34m(x, y)\u001b[0m\n\u001b[0;32m   1017\u001b[0m                 \u001b[0mmask\u001b[0m \u001b[1;33m=\u001b[0m \u001b[0mnotna\u001b[0m\u001b[1;33m(\u001b[0m\u001b[0mx\u001b[0m\u001b[1;33m)\u001b[0m \u001b[1;33m&\u001b[0m \u001b[0mnotna\u001b[0m\u001b[1;33m(\u001b[0m\u001b[0my\u001b[0m\u001b[1;33m)\u001b[0m\u001b[1;33m\u001b[0m\u001b[0m\n\u001b[1;32m-> 1018\u001b[1;33m                 \u001b[0mresult\u001b[0m\u001b[1;33m[\u001b[0m\u001b[0mmask\u001b[0m\u001b[1;33m]\u001b[0m \u001b[1;33m=\u001b[0m \u001b[0mop\u001b[0m\u001b[1;33m(\u001b[0m\u001b[0mx\u001b[0m\u001b[1;33m[\u001b[0m\u001b[0mmask\u001b[0m\u001b[1;33m]\u001b[0m\u001b[1;33m,\u001b[0m \u001b[0mcom\u001b[0m\u001b[1;33m.\u001b[0m\u001b[0m_values_from_object\u001b[0m\u001b[1;33m(\u001b[0m\u001b[0my\u001b[0m\u001b[1;33m[\u001b[0m\u001b[0mmask\u001b[0m\u001b[1;33m]\u001b[0m\u001b[1;33m)\u001b[0m\u001b[1;33m)\u001b[0m\u001b[1;33m\u001b[0m\u001b[0m\n\u001b[0m\u001b[0;32m   1019\u001b[0m             \u001b[1;32melse\u001b[0m\u001b[1;33m:\u001b[0m\u001b[1;33m\u001b[0m\u001b[0m\n",
      "\u001b[1;32m~\\Anaconda3\\lib\\site-packages\\pandas\\core\\ops.py\u001b[0m in \u001b[0;36mradd\u001b[1;34m(left, right)\u001b[0m\n\u001b[0;32m    112\u001b[0m \u001b[1;32mdef\u001b[0m \u001b[0mradd\u001b[0m\u001b[1;33m(\u001b[0m\u001b[0mleft\u001b[0m\u001b[1;33m,\u001b[0m \u001b[0mright\u001b[0m\u001b[1;33m)\u001b[0m\u001b[1;33m:\u001b[0m\u001b[1;33m\u001b[0m\u001b[0m\n\u001b[1;32m--> 113\u001b[1;33m     \u001b[1;32mreturn\u001b[0m \u001b[0mright\u001b[0m \u001b[1;33m+\u001b[0m \u001b[0mleft\u001b[0m\u001b[1;33m\u001b[0m\u001b[0m\n\u001b[0m\u001b[0;32m    114\u001b[0m \u001b[1;33m\u001b[0m\u001b[0m\n",
      "\u001b[1;31mTypeError\u001b[0m: unsupported operand type(s) for +: 'float' and 'str'",
      "\nDuring handling of the above exception, another exception occurred:\n",
      "\u001b[1;31mTypeError\u001b[0m                                 Traceback (most recent call last)",
      "\u001b[1;32m<ipython-input-203-7ce05b0746ba>\u001b[0m in \u001b[0;36m<module>\u001b[1;34m()\u001b[0m\n\u001b[0;32m     19\u001b[0m \u001b[1;32mfor\u001b[0m \u001b[0mrow\u001b[0m \u001b[1;32min\u001b[0m \u001b[0mrange\u001b[0m\u001b[1;33m(\u001b[0m\u001b[0mn_rows\u001b[0m\u001b[1;33m)\u001b[0m\u001b[1;33m:\u001b[0m\u001b[1;33m\u001b[0m\u001b[0m\n\u001b[0;32m     20\u001b[0m     \u001b[0mplt\u001b[0m\u001b[1;33m.\u001b[0m\u001b[0mbar\u001b[0m\u001b[1;33m(\u001b[0m\u001b[0mindex\u001b[0m\u001b[1;33m,\u001b[0m  \u001b[0mmonday_AM_dlping\u001b[0m\u001b[1;33m[\u001b[0m\u001b[1;34m'TECHNOLOGY'\u001b[0m\u001b[1;33m]\u001b[0m\u001b[1;33m,\u001b[0m \u001b[0mbar_width\u001b[0m\u001b[1;33m,\u001b[0m \u001b[0mbottom\u001b[0m\u001b[1;33m=\u001b[0m\u001b[0my_offset\u001b[0m\u001b[1;33m,\u001b[0m \u001b[0mcolor\u001b[0m\u001b[1;33m=\u001b[0m\u001b[0mcolors\u001b[0m\u001b[1;33m[\u001b[0m\u001b[0mrow\u001b[0m\u001b[1;33m]\u001b[0m\u001b[1;33m)\u001b[0m\u001b[1;33m\u001b[0m\u001b[0m\n\u001b[1;32m---> 21\u001b[1;33m     \u001b[0my_offset\u001b[0m \u001b[1;33m=\u001b[0m \u001b[0my_offset\u001b[0m \u001b[1;33m+\u001b[0m  \u001b[0mmonday_AM_dlping\u001b[0m\u001b[1;33m[\u001b[0m\u001b[1;34m'TECHNOLOGY'\u001b[0m\u001b[1;33m]\u001b[0m\u001b[1;33m\u001b[0m\u001b[0m\n\u001b[0m\u001b[0;32m     22\u001b[0m     \u001b[0mcell_text\u001b[0m\u001b[1;33m.\u001b[0m\u001b[0mappend\u001b[0m\u001b[1;33m(\u001b[0m\u001b[1;33m[\u001b[0m\u001b[1;34m'%1.1f'\u001b[0m \u001b[1;33m%\u001b[0m \u001b[1;33m(\u001b[0m\u001b[0mx\u001b[0m \u001b[1;33m/\u001b[0m \u001b[1;36m1000.0\u001b[0m\u001b[1;33m)\u001b[0m \u001b[1;32mfor\u001b[0m \u001b[0mx\u001b[0m \u001b[1;32min\u001b[0m \u001b[0my_offset\u001b[0m\u001b[1;33m]\u001b[0m\u001b[1;33m)\u001b[0m\u001b[1;33m\u001b[0m\u001b[0m\n\u001b[0;32m     23\u001b[0m \u001b[1;31m# Reverse colors and text labels to display the last value at the top.\u001b[0m\u001b[1;33m\u001b[0m\u001b[1;33m\u001b[0m\u001b[0m\n",
      "\u001b[1;32m~\\Anaconda3\\lib\\site-packages\\pandas\\core\\ops.py\u001b[0m in \u001b[0;36mwrapper\u001b[1;34m(left, right)\u001b[0m\n\u001b[0;32m   1067\u001b[0m             \u001b[0mrvalues\u001b[0m \u001b[1;33m=\u001b[0m \u001b[0mrvalues\u001b[0m\u001b[1;33m.\u001b[0m\u001b[0mvalues\u001b[0m\u001b[1;33m\u001b[0m\u001b[0m\n\u001b[0;32m   1068\u001b[0m \u001b[1;33m\u001b[0m\u001b[0m\n\u001b[1;32m-> 1069\u001b[1;33m         \u001b[0mresult\u001b[0m \u001b[1;33m=\u001b[0m \u001b[0msafe_na_op\u001b[0m\u001b[1;33m(\u001b[0m\u001b[0mlvalues\u001b[0m\u001b[1;33m,\u001b[0m \u001b[0mrvalues\u001b[0m\u001b[1;33m)\u001b[0m\u001b[1;33m\u001b[0m\u001b[0m\n\u001b[0m\u001b[0;32m   1070\u001b[0m         return construct_result(left, result,\n\u001b[0;32m   1071\u001b[0m                                 index=left.index, name=res_name, dtype=None)\n",
      "\u001b[1;32m~\\Anaconda3\\lib\\site-packages\\pandas\\core\\ops.py\u001b[0m in \u001b[0;36msafe_na_op\u001b[1;34m(lvalues, rvalues)\u001b[0m\n\u001b[0;32m   1035\u001b[0m             \u001b[1;32mif\u001b[0m \u001b[0mis_object_dtype\u001b[0m\u001b[1;33m(\u001b[0m\u001b[0mlvalues\u001b[0m\u001b[1;33m)\u001b[0m\u001b[1;33m:\u001b[0m\u001b[1;33m\u001b[0m\u001b[0m\n\u001b[0;32m   1036\u001b[0m                 return libalgos.arrmap_object(lvalues,\n\u001b[1;32m-> 1037\u001b[1;33m                                               lambda x: op(x, rvalues))\n\u001b[0m\u001b[0;32m   1038\u001b[0m             \u001b[1;32mraise\u001b[0m\u001b[1;33m\u001b[0m\u001b[0m\n\u001b[0;32m   1039\u001b[0m \u001b[1;33m\u001b[0m\u001b[0m\n",
      "\u001b[1;32mpandas\\_libs\\algos_common_helper.pxi\u001b[0m in \u001b[0;36mpandas._libs.algos.arrmap_object\u001b[1;34m()\u001b[0m\n",
      "\u001b[1;32m~\\Anaconda3\\lib\\site-packages\\pandas\\core\\ops.py\u001b[0m in \u001b[0;36m<lambda>\u001b[1;34m(x)\u001b[0m\n\u001b[0;32m   1035\u001b[0m             \u001b[1;32mif\u001b[0m \u001b[0mis_object_dtype\u001b[0m\u001b[1;33m(\u001b[0m\u001b[0mlvalues\u001b[0m\u001b[1;33m)\u001b[0m\u001b[1;33m:\u001b[0m\u001b[1;33m\u001b[0m\u001b[0m\n\u001b[0;32m   1036\u001b[0m                 return libalgos.arrmap_object(lvalues,\n\u001b[1;32m-> 1037\u001b[1;33m                                               lambda x: op(x, rvalues))\n\u001b[0m\u001b[0;32m   1038\u001b[0m             \u001b[1;32mraise\u001b[0m\u001b[1;33m\u001b[0m\u001b[0m\n\u001b[0;32m   1039\u001b[0m \u001b[1;33m\u001b[0m\u001b[0m\n",
      "\u001b[1;32m~\\Anaconda3\\lib\\site-packages\\pandas\\core\\ops.py\u001b[0m in \u001b[0;36mradd\u001b[1;34m(left, right)\u001b[0m\n\u001b[0;32m    111\u001b[0m \u001b[1;33m\u001b[0m\u001b[0m\n\u001b[0;32m    112\u001b[0m \u001b[1;32mdef\u001b[0m \u001b[0mradd\u001b[0m\u001b[1;33m(\u001b[0m\u001b[0mleft\u001b[0m\u001b[1;33m,\u001b[0m \u001b[0mright\u001b[0m\u001b[1;33m)\u001b[0m\u001b[1;33m:\u001b[0m\u001b[1;33m\u001b[0m\u001b[0m\n\u001b[1;32m--> 113\u001b[1;33m     \u001b[1;32mreturn\u001b[0m \u001b[0mright\u001b[0m \u001b[1;33m+\u001b[0m \u001b[0mleft\u001b[0m\u001b[1;33m\u001b[0m\u001b[0m\n\u001b[0m\u001b[0;32m    114\u001b[0m \u001b[1;33m\u001b[0m\u001b[0m\n\u001b[0;32m    115\u001b[0m \u001b[1;33m\u001b[0m\u001b[0m\n",
      "\u001b[1;31mTypeError\u001b[0m: ufunc 'add' did not contain a loop with signature matching types dtype('<U32') dtype('<U32') dtype('<U32')"
     ]
    },
    {
     "data": {
      "image/png": "[encoded data removed]",
      "text/plain": [
       "<Figure size 432x288 with 1 Axes>"
      ]
     },
     "metadata": {},
     "output_type": "display_data"
    }
   ],
   "source": [
    "columns = monday_AM_dlping['TECHNOLOGY']\n",
    "rows =  monday_AM_dlping['rtt_avg']\n",
    "\n",
    "values = np.arange(0, 2500, 500)\n",
    "value_increment = 1000\n",
    "\n",
    "# Get some pastel shades for the colors\n",
    "colors = plt.cm.BuPu(np.linspace(0, 0.5, len(rows)))\n",
    "n_rows = len(columns)\n",
    "\n",
    "index = np.arange(len(columns)) + 0.3\n",
    "bar_width = 0.4\n",
    "\n",
    "# Initialize the vertical-offset for the stacked bar chart.\n",
    "y_offset = np.zeros(len(columns))\n",
    "\n",
    "# Plot bars and create text labels for the table\n",
    "cell_text = []\n",
    "for row in range(n_rows):\n",
    "    plt.bar(index,  monday_AM_dlping['TECHNOLOGY'], bar_width, bottom=y_offset, color=colors[row])\n",
    "    y_offset = y_offset +  monday_AM_dlping['TECHNOLOGY']\n",
    "    cell_text.append(['%1.1f' % (x / 1000.0) for x in y_offset])\n",
    "# Reverse colors and text labels to display the last value at the top.\n",
    "colors = colors[::-1]\n",
    "cell_text.reverse()\n",
    "\n",
    "# Add a table at the bottom of the axes\n",
    "the_table = plt.table(cellText=cell_text,\n",
    "                      rowLabels=rows,\n",
    "                      rowColours=colors,\n",
    "                      colLabels=columns,\n",
    "                      loc='bottom')\n",
    "\n",
    "# Adjust layout to make room for the table:\n",
    "plt.subplots_adjust(left=0.2, bottom=0.2)\n",
    "\n",
    "plt.ylabel(\"Loss in ${0}'s\".format(value_increment))\n",
    "plt.yticks(values * value_increment, ['%d' % val for val in values])\n",
    "plt.xticks([])\n",
    "plt.title('Loss by Disaster')\n",
    "\n",
    "plt.show()"
   ]
  },
  {
   "cell_type": "code",
   "execution_count": null,
   "metadata": {},
   "outputs": [],
   "source": []
  }
 ],
 "metadata": {
  "kernelspec": {
   "display_name": "Python 3",
   "language": "python",
   "name": "python3"
  },
  "language_info": {
   "codemirror_mode": {
    "name": "ipython",
    "version": 3
   },
   "file_extension": ".py",
   "mimetype": "text/x-python",
   "name": "python",
   "nbconvert_exporter": "python",
   "pygments_lexer": "ipython3",
   "version": "3.6.3"
  }
 },
 "nbformat": 4,
 "nbformat_minor": 2
}
