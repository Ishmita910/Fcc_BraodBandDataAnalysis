{
 "cells": [
  {
   "cell_type": "code",
   "execution_count": 1,
   "metadata": {},
   "outputs": [],
   "source": [
    "import pandas as pd\n",
    "import csv"
   ]
  },
  {
   "cell_type": "code",
   "execution_count": 2,
   "metadata": {},
   "outputs": [],
   "source": [
    "df= pd.read_csv(\"Unit-Profile-sept2015.csv\",index_col = None)"
   ]
  },
  {
   "cell_type": "code",
   "execution_count": 4,
   "metadata": {},
   "outputs": [
    {
     "data": {
      "text/html": [
       "<div>\n",
       "<style scoped>\n",
       "    .dataframe tbody tr th:only-of-type {\n",
       "        vertical-align: middle;\n",
       "    }\n",
       "\n",
       "    .dataframe tbody tr th {\n",
       "        vertical-align: top;\n",
       "    }\n",
       "\n",
       "    .dataframe thead th {\n",
       "        text-align: right;\n",
       "    }\n",
       "</style>\n",
       "<table border=\"1\" class=\"dataframe\">\n",
       "  <thead>\n",
       "    <tr style=\"text-align: right;\">\n",
       "      <th></th>\n",
       "      <th>unit_id</th>\n",
       "      <th>isp</th>\n",
       "      <th>TECHNOLOGY</th>\n",
       "      <th>STATE</th>\n",
       "      <th>CENSUS</th>\n",
       "      <th>timezone_offset</th>\n",
       "      <th>timezone_offset_dst</th>\n",
       "      <th>Download</th>\n",
       "      <th>Upload</th>\n",
       "    </tr>\n",
       "  </thead>\n",
       "  <tbody>\n",
       "    <tr>\n",
       "      <th>0</th>\n",
       "      <td>382</td>\n",
       "      <td>AT&amp;T</td>\n",
       "      <td>UVERSE</td>\n",
       "      <td>SC</td>\n",
       "      <td>SOUTH</td>\n",
       "      <td>-5</td>\n",
       "      <td>-4</td>\n",
       "      <td>12</td>\n",
       "      <td>1</td>\n",
       "    </tr>\n",
       "    <tr>\n",
       "      <th>1</th>\n",
       "      <td>405</td>\n",
       "      <td>AT&amp;T</td>\n",
       "      <td>UVERSE</td>\n",
       "      <td>IL</td>\n",
       "      <td>MIDWEST</td>\n",
       "      <td>-6</td>\n",
       "      <td>-5</td>\n",
       "      <td>6</td>\n",
       "      <td>1</td>\n",
       "    </tr>\n",
       "    <tr>\n",
       "      <th>2</th>\n",
       "      <td>450</td>\n",
       "      <td>AT&amp;T</td>\n",
       "      <td>UVERSE</td>\n",
       "      <td>OH</td>\n",
       "      <td>MIDWEST</td>\n",
       "      <td>-5</td>\n",
       "      <td>-4</td>\n",
       "      <td>6</td>\n",
       "      <td>1</td>\n",
       "    </tr>\n",
       "    <tr>\n",
       "      <th>3</th>\n",
       "      <td>463</td>\n",
       "      <td>AT&amp;T</td>\n",
       "      <td>UVERSE</td>\n",
       "      <td>IL</td>\n",
       "      <td>MIDWEST</td>\n",
       "      <td>-6</td>\n",
       "      <td>-5</td>\n",
       "      <td>18</td>\n",
       "      <td>1.5</td>\n",
       "    </tr>\n",
       "    <tr>\n",
       "      <th>4</th>\n",
       "      <td>464</td>\n",
       "      <td>AT&amp;T</td>\n",
       "      <td>DSL</td>\n",
       "      <td>OH</td>\n",
       "      <td>MIDWEST</td>\n",
       "      <td>-5</td>\n",
       "      <td>-4</td>\n",
       "      <td>3</td>\n",
       "      <td>0.384</td>\n",
       "    </tr>\n",
       "  </tbody>\n",
       "</table>\n",
       "</div>"
      ],
      "text/plain": [
       "   unit_id   isp TECHNOLOGY STATE   CENSUS  timezone_offset  \\\n",
       "0      382  AT&T     UVERSE    SC    SOUTH               -5   \n",
       "1      405  AT&T     UVERSE    IL  MIDWEST               -6   \n",
       "2      450  AT&T     UVERSE    OH  MIDWEST               -5   \n",
       "3      463  AT&T     UVERSE    IL  MIDWEST               -6   \n",
       "4      464  AT&T        DSL    OH  MIDWEST               -5   \n",
       "\n",
       "   timezone_offset_dst Download Upload  \n",
       "0                   -4       12      1  \n",
       "1                   -5        6      1  \n",
       "2                   -4        6      1  \n",
       "3                   -5       18    1.5  \n",
       "4                   -4        3  0.384  "
      ]
     },
     "execution_count": 4,
     "metadata": {},
     "output_type": "execute_result"
    }
   ],
   "source": [
    "df.head()"
   ]
  },
  {
   "cell_type": "code",
   "execution_count": 5,
   "metadata": {},
   "outputs": [],
   "source": [
    "df_tech_state=df[['TECHNOLOGY', 'STATE']]"
   ]
  },
  {
   "cell_type": "code",
   "execution_count": 6,
   "metadata": {},
   "outputs": [],
   "source": [
    "df_tech_state.to_csv('df_tech_state.csv', encoding='utf-8', index=False) "
   ]
  },
  {
   "cell_type": "code",
   "execution_count": null,
   "metadata": {},
   "outputs": [],
   "source": []
  }
 ],
 "metadata": {
  "kernelspec": {
   "display_name": "Python 3",
   "language": "python",
   "name": "python3"
  },
  "language_info": {
   "codemirror_mode": {
    "name": "ipython",
    "version": 3
   },
   "file_extension": ".py",
   "mimetype": "text/x-python",
   "name": "python",
   "nbconvert_exporter": "python",
   "pygments_lexer": "ipython3",
   "version": "3.6.3"
  }
 },
 "nbformat": 4,
 "nbformat_minor": 2
}
