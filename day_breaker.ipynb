{
 "cells": [
  {
   "cell_type": "code",
   "execution_count": 4,
   "metadata": {},
   "outputs": [],
   "source": [
    "import pandas as pd\n",
    "import csv"
   ]
  },
  {
   "cell_type": "code",
   "execution_count": 5,
   "metadata": {},
   "outputs": [],
   "source": [
    "df= pd.read_csv(\"Unit-Profile-sept2015.csv\",index_col = None)"
   ]
  },
  {
   "cell_type": "code",
   "execution_count": 27,
   "metadata": {},
   "outputs": [],
   "source": [
    "curr_webget= pd.read_csv(\"curr_webget.csv\",header=None,index_col = None)"
   ]
  },
  {
   "cell_type": "code",
   "execution_count": 28,
   "metadata": {},
   "outputs": [],
   "source": [
    "curr_webget = curr_webget.set_axis(['unit_id', 'dtime', 'target', 'address','fetch_time','bytes_total','bytes_sec','objects','threads','requests','connections','reused_connections','lookups','request total time','request min time','request avg time','request max time','ttfb total time','ttfb min time','ttfb avg time','ttfb max time','lookup total time','lookup min time','lookup avg time','lookup max time','success','failure','location_id'], axis=1, inplace=False)"
   ]
  },
  {
   "cell_type": "code",
   "execution_count": 29,
   "metadata": {},
   "outputs": [
    {
     "data": {
      "text/plain": [
       "(6301,)"
      ]
     },
     "execution_count": 29,
     "metadata": {},
     "output_type": "execute_result"
    }
   ],
   "source": [
    "curr_webget['unit_id'].unique().shape"
   ]
  },
  {
   "cell_type": "code",
   "execution_count": 30,
   "metadata": {},
   "outputs": [],
   "source": [
    "unit_id_list = []\n",
    "for i in range(6241):\n",
    "    unit_id_list.append(df.unit_id[i])"
   ]
  },
  {
   "cell_type": "code",
   "execution_count": 32,
   "metadata": {},
   "outputs": [],
   "source": [
    "df_curr_webget=curr_webget[['unit_id', 'dtime', 'fetch_time','bytes_total','bytes_sec','objects','threads','lookup avg time']]"
   ]
  },
  {
   "cell_type": "code",
   "execution_count": 34,
   "metadata": {},
   "outputs": [
    {
     "data": {
      "text/plain": [
       "(6301,)"
      ]
     },
     "execution_count": 34,
     "metadata": {},
     "output_type": "execute_result"
    }
   ],
   "source": [
    "df_curr_webget.unit_id.unique().shape"
   ]
  },
  {
   "cell_type": "code",
   "execution_count": 23,
   "metadata": {},
   "outputs": [],
   "source": [
    "combined_df = pd.merge(df, df_curr_webget, on='unit_id')"
   ]
  },
  {
   "cell_type": "code",
   "execution_count": 24,
   "metadata": {},
   "outputs": [
    {
     "data": {
      "text/plain": [
       "(0, 16)"
      ]
     },
     "execution_count": 24,
     "metadata": {},
     "output_type": "execute_result"
    }
   ],
   "source": [
    "combined_df.shape"
   ]
  },
  {
   "cell_type": "code",
   "execution_count": 52,
   "metadata": {},
   "outputs": [],
   "source": [
    "to_remove = []\n",
    "to_remove = [item for item in unit_id_extractor_list if item not in unit_id_list]"
   ]
  },
  {
   "cell_type": "code",
   "execution_count": 53,
   "metadata": {},
   "outputs": [],
   "source": [
    "to_remove=list(set(to_remove))"
   ]
  },
  {
   "cell_type": "code",
   "execution_count": 31,
   "metadata": {},
   "outputs": [],
   "source": [
    "to_remove =[9344,\n",
    " 207616,\n",
    " 213628,\n",
    " 798464,\n",
    " 614148,\n",
    " 800132,\n",
    " 6534,\n",
    " 797448,\n",
    " 12683,\n",
    " 658316,\n",
    " 5519,\n",
    " 599952,\n",
    " 6673,\n",
    " 797072,\n",
    " 621712,\n",
    " 615188,\n",
    " 798736,\n",
    " 797336,\n",
    " 614170,\n",
    " 7323,\n",
    " 798238,\n",
    " 11936,\n",
    " 27681,\n",
    " 797606,\n",
    " 798122,\n",
    " 606892,\n",
    " 7853,\n",
    " 233008,\n",
    " 11441,\n",
    " 27825,\n",
    " 244914,\n",
    " 27444,\n",
    " 621744,\n",
    " 798390,\n",
    " 13105,\n",
    " 9658,\n",
    " 9787,\n",
    " 29628,\n",
    " 798144,\n",
    " 665410,\n",
    " 9677,\n",
    " 27854,\n",
    " 798286,\n",
    " 26578,\n",
    " 26706,\n",
    " 213076,\n",
    " 1238,\n",
    " 210390,\n",
    " 605656,\n",
    " 668502,\n",
    " 798168,\n",
    " 9048,\n",
    " 604,\n",
    " 10973,\n",
    " 6492,\n",
    " 798298,\n",
    " 6880,\n",
    " 614140,\n",
    " 621668,\n",
    " 626792,\n",
    " 10093,\n",
    " 5614,\n",
    " 6510,\n",
    " 798192,\n",
    " 13043,\n",
    " 7028,\n",
    " 589686,\n",
    " 7799,\n",
    " 13433,\n",
    " 5499,\n",
    " 578300,\n",
    " 9470]"
   ]
  },
  {
   "cell_type": "code",
   "execution_count": 35,
   "metadata": {},
   "outputs": [],
   "source": [
    "for element in to_remove:\n",
    "    df_curr_webget = df_curr_webget[df_curr_webget.unit_id != element]\n",
    "    \n",
    "    \n",
    " "
   ]
  },
  {
   "cell_type": "code",
   "execution_count": 36,
   "metadata": {},
   "outputs": [
    {
     "data": {
      "text/plain": [
       "(25661664, 8)"
      ]
     },
     "execution_count": 36,
     "metadata": {},
     "output_type": "execute_result"
    }
   ],
   "source": [
    "df_curr_webget.shape"
   ]
  },
  {
   "cell_type": "code",
   "execution_count": 37,
   "metadata": {},
   "outputs": [
    {
     "data": {
      "text/plain": [
       "(6229,)"
      ]
     },
     "execution_count": 37,
     "metadata": {},
     "output_type": "execute_result"
    }
   ],
   "source": [
    "df_curr_webget['unit_id'].unique().shape"
   ]
  },
  {
   "cell_type": "code",
   "execution_count": 38,
   "metadata": {},
   "outputs": [],
   "source": [
    "combined_df = pd.merge(df, df_curr_webget, on='unit_id')"
   ]
  },
  {
   "cell_type": "code",
   "execution_count": null,
   "metadata": {},
   "outputs": [],
   "source": [
    "for element in to_remove:\n",
    "    df_curr_dlping = df_curr_dlping[df_curr_dlping.unit_id != element]"
   ]
  },
  {
   "cell_type": "code",
   "execution_count": 61,
   "metadata": {},
   "outputs": [
    {
     "data": {
      "text/plain": [
       "Index(['unit_id', 'dtime', 'target', 'address', 'fetch_time', 'bytes_total',\n",
       "       'bytes_sec', 'objects', 'threads', 'requests', 'connections', 'X', 'll',\n",
       "       'rtt', 'ttmin', 'ttavg', 'rttMax', 'ttfb_tt', 'ttfb_min', 'ttfb_avg',\n",
       "       'ttfb_max', 'ttfb_ttt', 'ttfb_mint', 'ttfb_avgt', 'ttfb_maxt',\n",
       "       'success', 'failure', 'location_id'],\n",
       "      dtype='object')"
      ]
     },
     "execution_count": 61,
     "metadata": {},
     "output_type": "execute_result"
    }
   ],
   "source": [
    "curr_webget.columns"
   ]
  },
  {
   "cell_type": "code",
   "execution_count": 2,
   "metadata": {},
   "outputs": [
    {
     "ename": "NameError",
     "evalue": "name 'curr_webget' is not defined",
     "output_type": "error",
     "traceback": [
      "\u001b[1;31m---------------------------------------------------------------------------\u001b[0m",
      "\u001b[1;31mNameError\u001b[0m                                 Traceback (most recent call last)",
      "\u001b[1;32m<ipython-input-2-20db88c1e911>\u001b[0m in \u001b[0;36m<module>\u001b[1;34m()\u001b[0m\n\u001b[1;32m----> 1\u001b[1;33m \u001b[0mcurr_webget\u001b[0m\u001b[1;33m.\u001b[0m\u001b[0mshape\u001b[0m\u001b[1;33m\u001b[0m\u001b[0m\n\u001b[0m",
      "\u001b[1;31mNameError\u001b[0m: name 'curr_webget' is not defined"
     ]
    }
   ],
   "source": [
    "curr_webget.shape"
   ]
  },
  {
   "cell_type": "code",
   "execution_count": 1,
   "metadata": {},
   "outputs": [
    {
     "ename": "NameError",
     "evalue": "name 'curr_webget' is not defined",
     "output_type": "error",
     "traceback": [
      "\u001b[1;31m---------------------------------------------------------------------------\u001b[0m",
      "\u001b[1;31mNameError\u001b[0m                                 Traceback (most recent call last)",
      "\u001b[1;32m<ipython-input-1-3804e002e41a>\u001b[0m in \u001b[0;36m<module>\u001b[1;34m()\u001b[0m\n\u001b[1;32m----> 1\u001b[1;33m \u001b[0mcurr_webget\u001b[0m\u001b[1;33m.\u001b[0m\u001b[0mthreads\u001b[0m\u001b[1;33m.\u001b[0m\u001b[0munique\u001b[0m\u001b[1;33m(\u001b[0m\u001b[1;33m)\u001b[0m\u001b[1;33m\u001b[0m\u001b[0m\n\u001b[0m",
      "\u001b[1;31mNameError\u001b[0m: name 'curr_webget' is not defined"
     ]
    }
   ],
   "source": [
    "curr_webget.threads.unique()"
   ]
  },
  {
   "cell_type": "code",
   "execution_count": null,
   "metadata": {},
   "outputs": [],
   "source": [
    "df_curr_webget=curr_webget[['unit_id', 'dtime', 'target', 'address','fetch_time','bytes_total','bytes_sec','objects','threads','requests','connections','X','ll','rtt','ttmin','ttavg','rttMax','ttfb_tt','ttfb_min','ttfb_avg','ttfb_max','ttfb_ttt','ttfb_mint','ttfb_avgt']]"
   ]
  },
  {
   "cell_type": "code",
   "execution_count": 11,
   "metadata": {},
   "outputs": [],
   "source": [
    "df_curr_videostream['dtime'] = pd.to_datetime(df_curr_videostream['dtime'], format='%Y-%m-%d %H:%M:%S')\n",
    "\n",
    "df_curr_videostream['Am / Pm'] = df_curr_videostream['dtime'].dt.strftime('%p')\n",
    "df_curr_videostream['Day'] = df_curr_videostream['dtime'].dt.strftime('%A')"
   ]
  },
  {
   "cell_type": "code",
   "execution_count": 22,
   "metadata": {},
   "outputs": [],
   "source": [
    "combined_df = pd.merge(df, df_curr_videostream, on=\"unit_id\")"
   ]
  },
  {
   "cell_type": "code",
   "execution_count": 25,
   "metadata": {},
   "outputs": [],
   "source": [
    "combined_df=combined_df[['unit_id','STATE', 'dtime','latency','bitrate','location_id']]"
   ]
  },
  {
   "cell_type": "code",
   "execution_count": 39,
   "metadata": {},
   "outputs": [],
   "source": [
    "combined_df.to_csv('df_curr_webget.csv', encoding='utf-8', index=False)"
   ]
  },
  {
   "cell_type": "code",
   "execution_count": null,
   "metadata": {},
   "outputs": [],
   "source": []
  }
 ],
 "metadata": {
  "kernelspec": {
   "display_name": "Python 3",
   "language": "python",
   "name": "python3"
  },
  "language_info": {
   "codemirror_mode": {
    "name": "ipython",
    "version": 3
   },
   "file_extension": ".py",
   "mimetype": "text/x-python",
   "name": "python",
   "nbconvert_exporter": "python",
   "pygments_lexer": "ipython3",
   "version": "3.6.3"
  }
 },
 "nbformat": 4,
 "nbformat_minor": 2
}
